{
 "cells": [
  {
   "cell_type": "code",
   "execution_count": 1,
   "id": "2948c737",
   "metadata": {},
   "outputs": [
    {
     "data": {
      "text/plain": [
       "'C:\\\\Users\\\\sendt\\\\Desktop\\\\EMORY MSBA\\\\MS 2021\\\\COURSES\\\\2022 - 4_Spring\\\\MKT 680 - Marketing Analytics\\\\20220205_Assignment 1'"
      ]
     },
     "execution_count": 1,
     "metadata": {},
     "output_type": "execute_result"
    }
   ],
   "source": [
    "import gc\n",
    "gc.collect()\n",
    "\n",
    "from dask import dataframe as dd\n",
    "import pandas as pd\n",
    "import time\n",
    "import os\n",
    "\n",
    "os.getcwd()"
   ]
  },
  {
   "cell_type": "code",
   "execution_count": null,
   "id": "02205ad7",
   "metadata": {},
   "outputs": [],
   "source": [
    "start = time.time()\n",
    "df = dd.read_csv(\"transactions.csv\")\n",
    "df.sample(frac = 0.01).to_csv(\"transactionsSample3.csv\", single_file = True)\n",
    "end = time.time()\n",
    "print(\"Time taken: \",(end-start),\"sec\")"
   ]
  },
  {
   "cell_type": "code",
   "execution_count": null,
   "id": "b2fe7fa1",
   "metadata": {},
   "outputs": [],
   "source": [
    "trx = pd.read_csv(\"transactionsSample3.csv\")\n",
    "trx.shape"
   ]
  },
  {
   "cell_type": "code",
   "execution_count": null,
   "id": "8fca5802",
   "metadata": {},
   "outputs": [],
   "source": [
    "# Since we did not put a seed during sampling the data, hence this chunk of code is in a seperate python file\n",
    "# our apologies for the slip up"
   ]
  }
 ],
 "metadata": {
  "kernelspec": {
   "display_name": "Python 3 (ipykernel)",
   "language": "python",
   "name": "python3"
  },
  "language_info": {
   "codemirror_mode": {
    "name": "ipython",
    "version": 3
   },
   "file_extension": ".py",
   "mimetype": "text/x-python",
   "name": "python",
   "nbconvert_exporter": "python",
   "pygments_lexer": "ipython3",
   "version": "3.9.7"
  }
 },
 "nbformat": 4,
 "nbformat_minor": 5
}
