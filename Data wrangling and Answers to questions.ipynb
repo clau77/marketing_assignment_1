{
 "cells": [
  {
   "cell_type": "code",
   "execution_count": 259,
   "id": "fa927fe7",
   "metadata": {},
   "outputs": [],
   "source": [
    "# Import libraries\n",
    "\n",
    "import pandas as pd\n",
    "import numpy as np\n",
    "import scipy as sp\n",
    "import time \n",
    "import matplotlib.pyplot as plt\n",
    "%matplotlib inline\n",
    "import seaborn as sns\n",
    "\n",
    "#import pandas_profiling\n",
    "import os, sys\n",
    "\n",
    "import datetime\n",
    "from __future__ import division, print_function, unicode_literals\n"
   ]
  },
  {
   "cell_type": "markdown",
   "id": "6b879bf4",
   "metadata": {},
   "source": [
    "# Data Prep"
   ]
  },
  {
   "cell_type": "raw",
   "id": "3a14397c",
   "metadata": {},
   "source": [
    "Product Table"
   ]
  },
  {
   "cell_type": "code",
   "execution_count": 260,
   "id": "39354d40",
   "metadata": {
    "collapsed": true
   },
   "outputs": [
    {
     "data": {
      "text/html": [
       "<div>\n",
       "<style scoped>\n",
       "    .dataframe tbody tr th:only-of-type {\n",
       "        vertical-align: middle;\n",
       "    }\n",
       "\n",
       "    .dataframe tbody tr th {\n",
       "        vertical-align: top;\n",
       "    }\n",
       "\n",
       "    .dataframe thead th {\n",
       "        text-align: right;\n",
       "    }\n",
       "</style>\n",
       "<table border=\"1\" class=\"dataframe\">\n",
       "  <thead>\n",
       "    <tr style=\"text-align: right;\">\n",
       "      <th></th>\n",
       "      <th>prod_id</th>\n",
       "      <th>prod_desc</th>\n",
       "      <th>prod_section</th>\n",
       "      <th>prod_category</th>\n",
       "      <th>prod_subcategory</th>\n",
       "      <th>prod_type</th>\n",
       "      <th>prod_mfc_brand_cd</th>\n",
       "      <th>prod_unit_qty_count</th>\n",
       "      <th>prod_count_uom</th>\n",
       "      <th>prod_uom_value</th>\n",
       "    </tr>\n",
       "  </thead>\n",
       "  <tbody>\n",
       "    <tr>\n",
       "      <th>0</th>\n",
       "      <td>20000002.0</td>\n",
       "      <td>ACSE SS TUNA LT CHUNK IN BROTH</td>\n",
       "      <td>Grocery</td>\n",
       "      <td>Canned</td>\n",
       "      <td>Canned Fish/Meat</td>\n",
       "      <td>Canned Tuna</td>\n",
       "      <td>ACSE</td>\n",
       "      <td>1.0</td>\n",
       "      <td>KG</td>\n",
       "      <td>1.88</td>\n",
       "    </tr>\n",
       "    <tr>\n",
       "      <th>1</th>\n",
       "      <td>20000005.0</td>\n",
       "      <td>ACSE APPLE CIDER 3 LT</td>\n",
       "      <td>Produce</td>\n",
       "      <td>Hard Goods</td>\n",
       "      <td>Dressing/Dips/Juices</td>\n",
       "      <td>Juice</td>\n",
       "      <td>ACSE</td>\n",
       "      <td>1.0</td>\n",
       "      <td>L</td>\n",
       "      <td>3.00</td>\n",
       "    </tr>\n",
       "    <tr>\n",
       "      <th>2</th>\n",
       "      <td>20000069.0</td>\n",
       "      <td>ACSE WHOLE COD</td>\n",
       "      <td>Seafood</td>\n",
       "      <td>Fresh Seafood</td>\n",
       "      <td>Fresh Fish</td>\n",
       "      <td>Cod</td>\n",
       "      <td>ACSE</td>\n",
       "      <td>1.0</td>\n",
       "      <td>KG</td>\n",
       "      <td>1.00</td>\n",
       "    </tr>\n",
       "    <tr>\n",
       "      <th>3</th>\n",
       "      <td>20000086.0</td>\n",
       "      <td>S.S. SR. JUICE BERRIES</td>\n",
       "      <td>Bulk</td>\n",
       "      <td>Bulk Foods</td>\n",
       "      <td>Confectionary</td>\n",
       "      <td>Candy</td>\n",
       "      <td>SANB</td>\n",
       "      <td>1.0</td>\n",
       "      <td>UN</td>\n",
       "      <td>1.00</td>\n",
       "    </tr>\n",
       "    <tr>\n",
       "      <th>4</th>\n",
       "      <td>20000093.0</td>\n",
       "      <td>DANONE ACTIVIA CLUB PACK</td>\n",
       "      <td>Dairy</td>\n",
       "      <td>Yogurt/Refrigerated Juice</td>\n",
       "      <td>Yogurt</td>\n",
       "      <td>Health</td>\n",
       "      <td>DACT</td>\n",
       "      <td>24.0</td>\n",
       "      <td>G</td>\n",
       "      <td>100.00</td>\n",
       "    </tr>\n",
       "  </tbody>\n",
       "</table>\n",
       "</div>"
      ],
      "text/plain": [
       "      prod_id                       prod_desc prod_section  \\\n",
       "0  20000002.0  ACSE SS TUNA LT CHUNK IN BROTH      Grocery   \n",
       "1  20000005.0           ACSE APPLE CIDER 3 LT      Produce   \n",
       "2  20000069.0                  ACSE WHOLE COD      Seafood   \n",
       "3  20000086.0          S.S. SR. JUICE BERRIES         Bulk   \n",
       "4  20000093.0        DANONE ACTIVIA CLUB PACK        Dairy   \n",
       "\n",
       "               prod_category      prod_subcategory    prod_type  \\\n",
       "0                     Canned      Canned Fish/Meat  Canned Tuna   \n",
       "1                 Hard Goods  Dressing/Dips/Juices        Juice   \n",
       "2              Fresh Seafood            Fresh Fish          Cod   \n",
       "3                 Bulk Foods         Confectionary        Candy   \n",
       "4  Yogurt/Refrigerated Juice                Yogurt       Health   \n",
       "\n",
       "  prod_mfc_brand_cd  prod_unit_qty_count prod_count_uom  prod_uom_value  \n",
       "0              ACSE                  1.0             KG            1.88  \n",
       "1              ACSE                  1.0              L            3.00  \n",
       "2              ACSE                  1.0             KG            1.00  \n",
       "3              SANB                  1.0             UN            1.00  \n",
       "4              DACT                 24.0              G          100.00  "
      ]
     },
     "execution_count": 260,
     "metadata": {},
     "output_type": "execute_result"
    }
   ],
   "source": [
    "#Import dataset: \"products.csv\"\n",
    "products = pd.read_csv(\"products.csv\")\n",
    "\n",
    "products.head()"
   ]
  },
  {
   "cell_type": "code",
   "execution_count": 261,
   "id": "3e758db4",
   "metadata": {},
   "outputs": [
    {
     "data": {
      "text/plain": [
       "(155919, 10)"
      ]
     },
     "execution_count": 261,
     "metadata": {},
     "output_type": "execute_result"
    }
   ],
   "source": [
    "products.shape  #155919 rows, 10 columns"
   ]
  },
  {
   "cell_type": "code",
   "execution_count": 262,
   "id": "a6f9a7c9",
   "metadata": {},
   "outputs": [
    {
     "data": {
      "text/plain": [
       "prod_id                float64\n",
       "prod_desc               object\n",
       "prod_section            object\n",
       "prod_category           object\n",
       "prod_subcategory        object\n",
       "prod_type               object\n",
       "prod_mfc_brand_cd       object\n",
       "prod_unit_qty_count    float64\n",
       "prod_count_uom          object\n",
       "prod_uom_value         float64\n",
       "dtype: object"
      ]
     },
     "execution_count": 262,
     "metadata": {},
     "output_type": "execute_result"
    }
   ],
   "source": [
    "products.dtypes #check data type for each column"
   ]
  },
  {
   "cell_type": "code",
   "execution_count": 263,
   "id": "68a30c78",
   "metadata": {},
   "outputs": [
    {
     "data": {
      "text/plain": [
       "prod_id                1101\n",
       "prod_desc              1101\n",
       "prod_section           1101\n",
       "prod_category          1101\n",
       "prod_subcategory       1101\n",
       "prod_type              3341\n",
       "prod_mfc_brand_cd      1101\n",
       "prod_unit_qty_count    1101\n",
       "prod_count_uom         1101\n",
       "prod_uom_value         1101\n",
       "dtype: int64"
      ]
     },
     "execution_count": 263,
     "metadata": {},
     "output_type": "execute_result"
    }
   ],
   "source": [
    "products.isna().sum()"
   ]
  },
  {
   "cell_type": "code",
   "execution_count": 264,
   "id": "900b704f",
   "metadata": {},
   "outputs": [],
   "source": [
    "products = products.dropna()"
   ]
  },
  {
   "cell_type": "code",
   "execution_count": 265,
   "id": "3cf1fc0c",
   "metadata": {},
   "outputs": [
    {
     "data": {
      "text/plain": [
       "(152578, 10)"
      ]
     },
     "execution_count": 265,
     "metadata": {},
     "output_type": "execute_result"
    }
   ],
   "source": [
    "products.shape #3000+ rows dropped"
   ]
  },
  {
   "cell_type": "markdown",
   "id": "be00110f",
   "metadata": {},
   "source": [
    "Transactions Table"
   ]
  },
  {
   "cell_type": "code",
   "execution_count": 266,
   "id": "b1c50a91",
   "metadata": {},
   "outputs": [
    {
     "data": {
      "text/html": [
       "<div>\n",
       "<style scoped>\n",
       "    .dataframe tbody tr th:only-of-type {\n",
       "        vertical-align: middle;\n",
       "    }\n",
       "\n",
       "    .dataframe tbody tr th {\n",
       "        vertical-align: top;\n",
       "    }\n",
       "\n",
       "    .dataframe thead th {\n",
       "        text-align: right;\n",
       "    }\n",
       "</style>\n",
       "<table border=\"1\" class=\"dataframe\">\n",
       "  <thead>\n",
       "    <tr style=\"text-align: right;\">\n",
       "      <th></th>\n",
       "      <th>Unnamed: 0</th>\n",
       "      <th>trans_id</th>\n",
       "      <th>trans_dt</th>\n",
       "      <th>store_id</th>\n",
       "      <th>cust_id</th>\n",
       "      <th>prod_id</th>\n",
       "      <th>sales_amt</th>\n",
       "      <th>sales_qty</th>\n",
       "      <th>sales_wgt</th>\n",
       "    </tr>\n",
       "  </thead>\n",
       "  <tbody>\n",
       "    <tr>\n",
       "      <th>0</th>\n",
       "      <td>333895</td>\n",
       "      <td>170625010050404567</td>\n",
       "      <td>6/25/2017</td>\n",
       "      <td>1005</td>\n",
       "      <td>1008061498</td>\n",
       "      <td>21031312</td>\n",
       "      <td>2.49</td>\n",
       "      <td>1</td>\n",
       "      <td>0.0</td>\n",
       "    </tr>\n",
       "    <tr>\n",
       "      <th>1</th>\n",
       "      <td>762901</td>\n",
       "      <td>170624010220809847</td>\n",
       "      <td>6/24/2017</td>\n",
       "      <td>1022</td>\n",
       "      <td>1133995672</td>\n",
       "      <td>20189092</td>\n",
       "      <td>0.05</td>\n",
       "      <td>1</td>\n",
       "      <td>0.0</td>\n",
       "    </tr>\n",
       "    <tr>\n",
       "      <th>2</th>\n",
       "      <td>352577</td>\n",
       "      <td>170624010100701456</td>\n",
       "      <td>6/24/2017</td>\n",
       "      <td>1010</td>\n",
       "      <td>60003034881280</td>\n",
       "      <td>20708931</td>\n",
       "      <td>11.99</td>\n",
       "      <td>1</td>\n",
       "      <td>0.0</td>\n",
       "    </tr>\n",
       "    <tr>\n",
       "      <th>3</th>\n",
       "      <td>236852</td>\n",
       "      <td>170624010210702469</td>\n",
       "      <td>6/24/2017</td>\n",
       "      <td>1021</td>\n",
       "      <td>1008762288</td>\n",
       "      <td>20169567</td>\n",
       "      <td>9.00</td>\n",
       "      <td>1</td>\n",
       "      <td>0.2</td>\n",
       "    </tr>\n",
       "    <tr>\n",
       "      <th>4</th>\n",
       "      <td>760527</td>\n",
       "      <td>170624010660808197</td>\n",
       "      <td>6/24/2017</td>\n",
       "      <td>1066</td>\n",
       "      <td>1148460508</td>\n",
       "      <td>20314333</td>\n",
       "      <td>34.38</td>\n",
       "      <td>3</td>\n",
       "      <td>0.0</td>\n",
       "    </tr>\n",
       "  </tbody>\n",
       "</table>\n",
       "</div>"
      ],
      "text/plain": [
       "   Unnamed: 0            trans_id   trans_dt  store_id         cust_id  \\\n",
       "0      333895  170625010050404567  6/25/2017      1005      1008061498   \n",
       "1      762901  170624010220809847  6/24/2017      1022      1133995672   \n",
       "2      352577  170624010100701456  6/24/2017      1010  60003034881280   \n",
       "3      236852  170624010210702469  6/24/2017      1021      1008762288   \n",
       "4      760527  170624010660808197  6/24/2017      1066      1148460508   \n",
       "\n",
       "    prod_id  sales_amt  sales_qty  sales_wgt  \n",
       "0  21031312       2.49          1        0.0  \n",
       "1  20189092       0.05          1        0.0  \n",
       "2  20708931      11.99          1        0.0  \n",
       "3  20169567       9.00          1        0.2  \n",
       "4  20314333      34.38          3        0.0  "
      ]
     },
     "execution_count": 266,
     "metadata": {},
     "output_type": "execute_result"
    }
   ],
   "source": [
    "transactions = pd.read_csv(\"transactions_sampled_v5.csv\")\n",
    "\n",
    "transactions.head()"
   ]
  },
  {
   "cell_type": "code",
   "execution_count": 269,
   "id": "ce31b9ef",
   "metadata": {},
   "outputs": [
    {
     "data": {
      "text/plain": [
       "(12061594, 9)"
      ]
     },
     "execution_count": 269,
     "metadata": {},
     "output_type": "execute_result"
    }
   ],
   "source": [
    "transactions.shape \n"
   ]
  },
  {
   "cell_type": "code",
   "execution_count": 270,
   "id": "801d2f48",
   "metadata": {},
   "outputs": [
    {
     "data": {
      "text/plain": [
       "True"
      ]
     },
     "execution_count": 270,
     "metadata": {},
     "output_type": "execute_result"
    }
   ],
   "source": [
    "(transactions['sales_amt'] < 0).any() #check if there is negative sales amount"
   ]
  },
  {
   "cell_type": "code",
   "execution_count": 271,
   "id": "e64b3c39",
   "metadata": {},
   "outputs": [
    {
     "data": {
      "text/plain": [
       "True"
      ]
     },
     "execution_count": 271,
     "metadata": {},
     "output_type": "execute_result"
    }
   ],
   "source": [
    "(transactions['sales_qty'] < 0).any() #check if there is negative sales quantity/unit"
   ]
  },
  {
   "cell_type": "code",
   "execution_count": 272,
   "id": "d3a939f8",
   "metadata": {},
   "outputs": [
    {
     "data": {
      "text/plain": [
       "(11907126, 9)"
      ]
     },
     "execution_count": 272,
     "metadata": {},
     "output_type": "execute_result"
    }
   ],
   "source": [
    "#Negative sales amount and quantity don't make sense, filter out those rows\n",
    "transactions.drop(transactions[transactions['sales_amt'] < 0].index, inplace = True)\n",
    "transactions.drop(transactions[transactions['sales_qty'] < 0].index, inplace = True)\n",
    "transactions.shape"
   ]
  },
  {
   "cell_type": "code",
   "execution_count": 273,
   "id": "0bb8f924",
   "metadata": {
    "collapsed": true
   },
   "outputs": [
    {
     "data": {
      "text/plain": [
       "Unnamed: 0      int64\n",
       "trans_id        int64\n",
       "trans_dt       object\n",
       "store_id        int64\n",
       "cust_id         int64\n",
       "prod_id         int64\n",
       "sales_amt     float64\n",
       "sales_qty       int64\n",
       "sales_wgt     float64\n",
       "dtype: object"
      ]
     },
     "execution_count": 273,
     "metadata": {},
     "output_type": "execute_result"
    }
   ],
   "source": [
    "transactions.dtypes"
   ]
  },
  {
   "cell_type": "code",
   "execution_count": 274,
   "id": "a0f618ef",
   "metadata": {
    "collapsed": true
   },
   "outputs": [
    {
     "data": {
      "text/plain": [
       "Unnamed: 0    0\n",
       "trans_id      0\n",
       "trans_dt      0\n",
       "store_id      0\n",
       "cust_id       0\n",
       "prod_id       0\n",
       "sales_amt     0\n",
       "sales_qty     0\n",
       "sales_wgt     0\n",
       "dtype: int64"
      ]
     },
     "execution_count": 274,
     "metadata": {},
     "output_type": "execute_result"
    }
   ],
   "source": [
    "transactions.isna().sum()"
   ]
  },
  {
   "cell_type": "code",
   "execution_count": 275,
   "id": "2855377e",
   "metadata": {},
   "outputs": [],
   "source": [
    "transactions = transactions.dropna()"
   ]
  },
  {
   "cell_type": "code",
   "execution_count": 276,
   "id": "4e35f58c",
   "metadata": {},
   "outputs": [
    {
     "data": {
      "text/plain": [
       "(11907126, 9)"
      ]
     },
     "execution_count": 276,
     "metadata": {},
     "output_type": "execute_result"
    }
   ],
   "source": [
    "transactions.shape "
   ]
  },
  {
   "cell_type": "markdown",
   "id": "df632fa8",
   "metadata": {},
   "source": [
    "Merge the two tables to further explore and answer business questions\n",
    "How:Merge on \"prod_id\""
   ]
  },
  {
   "cell_type": "code",
   "execution_count": 277,
   "id": "c8795815",
   "metadata": {
    "collapsed": true
   },
   "outputs": [
    {
     "data": {
      "text/html": [
       "<div>\n",
       "<style scoped>\n",
       "    .dataframe tbody tr th:only-of-type {\n",
       "        vertical-align: middle;\n",
       "    }\n",
       "\n",
       "    .dataframe tbody tr th {\n",
       "        vertical-align: top;\n",
       "    }\n",
       "\n",
       "    .dataframe thead th {\n",
       "        text-align: right;\n",
       "    }\n",
       "</style>\n",
       "<table border=\"1\" class=\"dataframe\">\n",
       "  <thead>\n",
       "    <tr style=\"text-align: right;\">\n",
       "      <th></th>\n",
       "      <th>Unnamed: 0</th>\n",
       "      <th>trans_id</th>\n",
       "      <th>trans_dt</th>\n",
       "      <th>store_id</th>\n",
       "      <th>cust_id</th>\n",
       "      <th>prod_id</th>\n",
       "      <th>sales_amt</th>\n",
       "      <th>sales_qty</th>\n",
       "      <th>sales_wgt</th>\n",
       "      <th>prod_desc</th>\n",
       "      <th>prod_section</th>\n",
       "      <th>prod_category</th>\n",
       "      <th>prod_subcategory</th>\n",
       "      <th>prod_type</th>\n",
       "      <th>prod_mfc_brand_cd</th>\n",
       "      <th>prod_unit_qty_count</th>\n",
       "      <th>prod_count_uom</th>\n",
       "      <th>prod_uom_value</th>\n",
       "    </tr>\n",
       "  </thead>\n",
       "  <tbody>\n",
       "    <tr>\n",
       "      <th>0</th>\n",
       "      <td>333895</td>\n",
       "      <td>170625010050404567</td>\n",
       "      <td>6/25/2017</td>\n",
       "      <td>1005</td>\n",
       "      <td>1008061498</td>\n",
       "      <td>21031312</td>\n",
       "      <td>2.49</td>\n",
       "      <td>1</td>\n",
       "      <td>0.0</td>\n",
       "      <td>QP TORTILLA CHIPS RED CORN</td>\n",
       "      <td>Natural Foods</td>\n",
       "      <td>Natural Foods</td>\n",
       "      <td>Snacks-Natural Foods</td>\n",
       "      <td>Chips</td>\n",
       "      <td>QUPA</td>\n",
       "      <td>1.0</td>\n",
       "      <td>G</td>\n",
       "      <td>300.0</td>\n",
       "    </tr>\n",
       "    <tr>\n",
       "      <th>1</th>\n",
       "      <td>522825</td>\n",
       "      <td>170624010190805778</td>\n",
       "      <td>6/24/2017</td>\n",
       "      <td>1019</td>\n",
       "      <td>1100611737</td>\n",
       "      <td>21031312</td>\n",
       "      <td>2.49</td>\n",
       "      <td>1</td>\n",
       "      <td>0.0</td>\n",
       "      <td>QP TORTILLA CHIPS RED CORN</td>\n",
       "      <td>Natural Foods</td>\n",
       "      <td>Natural Foods</td>\n",
       "      <td>Snacks-Natural Foods</td>\n",
       "      <td>Chips</td>\n",
       "      <td>QUPA</td>\n",
       "      <td>1.0</td>\n",
       "      <td>G</td>\n",
       "      <td>300.0</td>\n",
       "    </tr>\n",
       "    <tr>\n",
       "      <th>2</th>\n",
       "      <td>481242</td>\n",
       "      <td>170624010010806725</td>\n",
       "      <td>6/24/2017</td>\n",
       "      <td>1001</td>\n",
       "      <td>1016601259</td>\n",
       "      <td>21031312</td>\n",
       "      <td>2.49</td>\n",
       "      <td>1</td>\n",
       "      <td>0.0</td>\n",
       "      <td>QP TORTILLA CHIPS RED CORN</td>\n",
       "      <td>Natural Foods</td>\n",
       "      <td>Natural Foods</td>\n",
       "      <td>Snacks-Natural Foods</td>\n",
       "      <td>Chips</td>\n",
       "      <td>QUPA</td>\n",
       "      <td>1.0</td>\n",
       "      <td>G</td>\n",
       "      <td>300.0</td>\n",
       "    </tr>\n",
       "    <tr>\n",
       "      <th>3</th>\n",
       "      <td>254888</td>\n",
       "      <td>170624010270807847</td>\n",
       "      <td>6/24/2017</td>\n",
       "      <td>1027</td>\n",
       "      <td>1021650510</td>\n",
       "      <td>21031312</td>\n",
       "      <td>2.49</td>\n",
       "      <td>1</td>\n",
       "      <td>0.0</td>\n",
       "      <td>QP TORTILLA CHIPS RED CORN</td>\n",
       "      <td>Natural Foods</td>\n",
       "      <td>Natural Foods</td>\n",
       "      <td>Snacks-Natural Foods</td>\n",
       "      <td>Chips</td>\n",
       "      <td>QUPA</td>\n",
       "      <td>1.0</td>\n",
       "      <td>G</td>\n",
       "      <td>300.0</td>\n",
       "    </tr>\n",
       "    <tr>\n",
       "      <th>4</th>\n",
       "      <td>640917</td>\n",
       "      <td>170625010040707767</td>\n",
       "      <td>6/25/2017</td>\n",
       "      <td>1004</td>\n",
       "      <td>1128987709</td>\n",
       "      <td>21031312</td>\n",
       "      <td>2.49</td>\n",
       "      <td>1</td>\n",
       "      <td>0.0</td>\n",
       "      <td>QP TORTILLA CHIPS RED CORN</td>\n",
       "      <td>Natural Foods</td>\n",
       "      <td>Natural Foods</td>\n",
       "      <td>Snacks-Natural Foods</td>\n",
       "      <td>Chips</td>\n",
       "      <td>QUPA</td>\n",
       "      <td>1.0</td>\n",
       "      <td>G</td>\n",
       "      <td>300.0</td>\n",
       "    </tr>\n",
       "  </tbody>\n",
       "</table>\n",
       "</div>"
      ],
      "text/plain": [
       "   Unnamed: 0            trans_id   trans_dt  store_id     cust_id   prod_id  \\\n",
       "0      333895  170625010050404567  6/25/2017      1005  1008061498  21031312   \n",
       "1      522825  170624010190805778  6/24/2017      1019  1100611737  21031312   \n",
       "2      481242  170624010010806725  6/24/2017      1001  1016601259  21031312   \n",
       "3      254888  170624010270807847  6/24/2017      1027  1021650510  21031312   \n",
       "4      640917  170625010040707767  6/25/2017      1004  1128987709  21031312   \n",
       "\n",
       "   sales_amt  sales_qty  sales_wgt                   prod_desc   prod_section  \\\n",
       "0       2.49          1        0.0  QP TORTILLA CHIPS RED CORN  Natural Foods   \n",
       "1       2.49          1        0.0  QP TORTILLA CHIPS RED CORN  Natural Foods   \n",
       "2       2.49          1        0.0  QP TORTILLA CHIPS RED CORN  Natural Foods   \n",
       "3       2.49          1        0.0  QP TORTILLA CHIPS RED CORN  Natural Foods   \n",
       "4       2.49          1        0.0  QP TORTILLA CHIPS RED CORN  Natural Foods   \n",
       "\n",
       "   prod_category      prod_subcategory prod_type prod_mfc_brand_cd  \\\n",
       "0  Natural Foods  Snacks-Natural Foods     Chips              QUPA   \n",
       "1  Natural Foods  Snacks-Natural Foods     Chips              QUPA   \n",
       "2  Natural Foods  Snacks-Natural Foods     Chips              QUPA   \n",
       "3  Natural Foods  Snacks-Natural Foods     Chips              QUPA   \n",
       "4  Natural Foods  Snacks-Natural Foods     Chips              QUPA   \n",
       "\n",
       "   prod_unit_qty_count prod_count_uom  prod_uom_value  \n",
       "0                  1.0              G           300.0  \n",
       "1                  1.0              G           300.0  \n",
       "2                  1.0              G           300.0  \n",
       "3                  1.0              G           300.0  \n",
       "4                  1.0              G           300.0  "
      ]
     },
     "execution_count": 277,
     "metadata": {},
     "output_type": "execute_result"
    }
   ],
   "source": [
    "merged = transactions.merge(products, how=\"inner\", on=\"prod_id\")\n",
    "\n",
    "merged.head()"
   ]
  },
  {
   "cell_type": "code",
   "execution_count": 278,
   "id": "01b58f1a",
   "metadata": {
    "collapsed": true
   },
   "outputs": [
    {
     "data": {
      "text/html": [
       "<div>\n",
       "<style scoped>\n",
       "    .dataframe tbody tr th:only-of-type {\n",
       "        vertical-align: middle;\n",
       "    }\n",
       "\n",
       "    .dataframe tbody tr th {\n",
       "        vertical-align: top;\n",
       "    }\n",
       "\n",
       "    .dataframe thead th {\n",
       "        text-align: right;\n",
       "    }\n",
       "</style>\n",
       "<table border=\"1\" class=\"dataframe\">\n",
       "  <thead>\n",
       "    <tr style=\"text-align: right;\">\n",
       "      <th></th>\n",
       "      <th>trans_id</th>\n",
       "      <th>trans_dt</th>\n",
       "      <th>store_id</th>\n",
       "      <th>cust_id</th>\n",
       "      <th>prod_id</th>\n",
       "      <th>sales_amt</th>\n",
       "      <th>sales_qty</th>\n",
       "      <th>sales_wgt</th>\n",
       "      <th>prod_desc</th>\n",
       "      <th>prod_section</th>\n",
       "      <th>prod_category</th>\n",
       "      <th>prod_subcategory</th>\n",
       "      <th>prod_type</th>\n",
       "      <th>prod_mfc_brand_cd</th>\n",
       "      <th>prod_unit_qty_count</th>\n",
       "      <th>prod_count_uom</th>\n",
       "      <th>prod_uom_value</th>\n",
       "    </tr>\n",
       "  </thead>\n",
       "  <tbody>\n",
       "    <tr>\n",
       "      <th>0</th>\n",
       "      <td>170625010050404567</td>\n",
       "      <td>6/25/2017</td>\n",
       "      <td>1005</td>\n",
       "      <td>1008061498</td>\n",
       "      <td>21031312</td>\n",
       "      <td>2.49</td>\n",
       "      <td>1</td>\n",
       "      <td>0.0</td>\n",
       "      <td>QP TORTILLA CHIPS RED CORN</td>\n",
       "      <td>Natural Foods</td>\n",
       "      <td>Natural Foods</td>\n",
       "      <td>Snacks-Natural Foods</td>\n",
       "      <td>Chips</td>\n",
       "      <td>QUPA</td>\n",
       "      <td>1.0</td>\n",
       "      <td>G</td>\n",
       "      <td>300.0</td>\n",
       "    </tr>\n",
       "    <tr>\n",
       "      <th>1</th>\n",
       "      <td>170624010190805778</td>\n",
       "      <td>6/24/2017</td>\n",
       "      <td>1019</td>\n",
       "      <td>1100611737</td>\n",
       "      <td>21031312</td>\n",
       "      <td>2.49</td>\n",
       "      <td>1</td>\n",
       "      <td>0.0</td>\n",
       "      <td>QP TORTILLA CHIPS RED CORN</td>\n",
       "      <td>Natural Foods</td>\n",
       "      <td>Natural Foods</td>\n",
       "      <td>Snacks-Natural Foods</td>\n",
       "      <td>Chips</td>\n",
       "      <td>QUPA</td>\n",
       "      <td>1.0</td>\n",
       "      <td>G</td>\n",
       "      <td>300.0</td>\n",
       "    </tr>\n",
       "    <tr>\n",
       "      <th>2</th>\n",
       "      <td>170624010010806725</td>\n",
       "      <td>6/24/2017</td>\n",
       "      <td>1001</td>\n",
       "      <td>1016601259</td>\n",
       "      <td>21031312</td>\n",
       "      <td>2.49</td>\n",
       "      <td>1</td>\n",
       "      <td>0.0</td>\n",
       "      <td>QP TORTILLA CHIPS RED CORN</td>\n",
       "      <td>Natural Foods</td>\n",
       "      <td>Natural Foods</td>\n",
       "      <td>Snacks-Natural Foods</td>\n",
       "      <td>Chips</td>\n",
       "      <td>QUPA</td>\n",
       "      <td>1.0</td>\n",
       "      <td>G</td>\n",
       "      <td>300.0</td>\n",
       "    </tr>\n",
       "    <tr>\n",
       "      <th>3</th>\n",
       "      <td>170624010270807847</td>\n",
       "      <td>6/24/2017</td>\n",
       "      <td>1027</td>\n",
       "      <td>1021650510</td>\n",
       "      <td>21031312</td>\n",
       "      <td>2.49</td>\n",
       "      <td>1</td>\n",
       "      <td>0.0</td>\n",
       "      <td>QP TORTILLA CHIPS RED CORN</td>\n",
       "      <td>Natural Foods</td>\n",
       "      <td>Natural Foods</td>\n",
       "      <td>Snacks-Natural Foods</td>\n",
       "      <td>Chips</td>\n",
       "      <td>QUPA</td>\n",
       "      <td>1.0</td>\n",
       "      <td>G</td>\n",
       "      <td>300.0</td>\n",
       "    </tr>\n",
       "    <tr>\n",
       "      <th>4</th>\n",
       "      <td>170625010040707767</td>\n",
       "      <td>6/25/2017</td>\n",
       "      <td>1004</td>\n",
       "      <td>1128987709</td>\n",
       "      <td>21031312</td>\n",
       "      <td>2.49</td>\n",
       "      <td>1</td>\n",
       "      <td>0.0</td>\n",
       "      <td>QP TORTILLA CHIPS RED CORN</td>\n",
       "      <td>Natural Foods</td>\n",
       "      <td>Natural Foods</td>\n",
       "      <td>Snacks-Natural Foods</td>\n",
       "      <td>Chips</td>\n",
       "      <td>QUPA</td>\n",
       "      <td>1.0</td>\n",
       "      <td>G</td>\n",
       "      <td>300.0</td>\n",
       "    </tr>\n",
       "  </tbody>\n",
       "</table>\n",
       "</div>"
      ],
      "text/plain": [
       "             trans_id   trans_dt  store_id     cust_id   prod_id  sales_amt  \\\n",
       "0  170625010050404567  6/25/2017      1005  1008061498  21031312       2.49   \n",
       "1  170624010190805778  6/24/2017      1019  1100611737  21031312       2.49   \n",
       "2  170624010010806725  6/24/2017      1001  1016601259  21031312       2.49   \n",
       "3  170624010270807847  6/24/2017      1027  1021650510  21031312       2.49   \n",
       "4  170625010040707767  6/25/2017      1004  1128987709  21031312       2.49   \n",
       "\n",
       "   sales_qty  sales_wgt                   prod_desc   prod_section  \\\n",
       "0          1        0.0  QP TORTILLA CHIPS RED CORN  Natural Foods   \n",
       "1          1        0.0  QP TORTILLA CHIPS RED CORN  Natural Foods   \n",
       "2          1        0.0  QP TORTILLA CHIPS RED CORN  Natural Foods   \n",
       "3          1        0.0  QP TORTILLA CHIPS RED CORN  Natural Foods   \n",
       "4          1        0.0  QP TORTILLA CHIPS RED CORN  Natural Foods   \n",
       "\n",
       "   prod_category      prod_subcategory prod_type prod_mfc_brand_cd  \\\n",
       "0  Natural Foods  Snacks-Natural Foods     Chips              QUPA   \n",
       "1  Natural Foods  Snacks-Natural Foods     Chips              QUPA   \n",
       "2  Natural Foods  Snacks-Natural Foods     Chips              QUPA   \n",
       "3  Natural Foods  Snacks-Natural Foods     Chips              QUPA   \n",
       "4  Natural Foods  Snacks-Natural Foods     Chips              QUPA   \n",
       "\n",
       "   prod_unit_qty_count prod_count_uom  prod_uom_value  \n",
       "0                  1.0              G           300.0  \n",
       "1                  1.0              G           300.0  \n",
       "2                  1.0              G           300.0  \n",
       "3                  1.0              G           300.0  \n",
       "4                  1.0              G           300.0  "
      ]
     },
     "execution_count": 278,
     "metadata": {},
     "output_type": "execute_result"
    }
   ],
   "source": [
    "# merged = merged.iloc[:,1:]\n",
    "# dropping the first column \"Unnamed:0\"\n",
    "merged = merged.drop(labels='Unnamed: 0', axis=1)\n",
    "merged.head()"
   ]
  },
  {
   "cell_type": "code",
   "execution_count": 279,
   "id": "1148216e",
   "metadata": {},
   "outputs": [],
   "source": [
    "# merged.loc[merged['prod_id'] == 20297499.0, ['sales_amt', 'sales_qty']]\n",
    "# so the sales_amt is the total amount paid for the transaction."
   ]
  },
  {
   "cell_type": "code",
   "execution_count": 280,
   "id": "1e0296bb",
   "metadata": {},
   "outputs": [
    {
     "data": {
      "text/plain": [
       "(11758644, 17)"
      ]
     },
     "execution_count": 280,
     "metadata": {},
     "output_type": "execute_result"
    }
   ],
   "source": [
    "merged.shape"
   ]
  },
  {
   "cell_type": "code",
   "execution_count": 281,
   "id": "532f18f3",
   "metadata": {
    "collapsed": true
   },
   "outputs": [
    {
     "data": {
      "text/plain": [
       "trans_id               0\n",
       "trans_dt               0\n",
       "store_id               0\n",
       "cust_id                0\n",
       "prod_id                0\n",
       "sales_amt              0\n",
       "sales_qty              0\n",
       "sales_wgt              0\n",
       "prod_desc              0\n",
       "prod_section           0\n",
       "prod_category          0\n",
       "prod_subcategory       0\n",
       "prod_type              0\n",
       "prod_mfc_brand_cd      0\n",
       "prod_unit_qty_count    0\n",
       "prod_count_uom         0\n",
       "prod_uom_value         0\n",
       "dtype: int64"
      ]
     },
     "execution_count": 281,
     "metadata": {},
     "output_type": "execute_result"
    }
   ],
   "source": [
    "merged.isna().sum()"
   ]
  },
  {
   "cell_type": "markdown",
   "id": "227d44b0",
   "metadata": {},
   "source": [
    "# Business Questions"
   ]
  },
  {
   "cell_type": "markdown",
   "id": "8f5390eb",
   "metadata": {},
   "source": [
    "### Question 1. \n",
    "Who are the best customers in terms of revenues, profits, transactions/store visits, number of products, etc.?"
   ]
  },
  {
   "cell_type": "code",
   "execution_count": 290,
   "id": "7e6ec44a",
   "metadata": {
    "collapsed": true
   },
   "outputs": [
    {
     "data": {
      "text/plain": [
       "cust_id\n",
       "1153341792     5254.17\n",
       "1135252713     4990.87\n",
       "1127597307     4956.39\n",
       "1147458804     4137.68\n",
       "1143554806     3767.19\n",
       "                ...   \n",
       "1077156416        0.00\n",
       "1006903073        0.00\n",
       "33261345754       0.00\n",
       "33257211931       0.00\n",
       "1146877973        0.00\n",
       "Name: sales_amt, Length: 2538690, dtype: float64"
      ]
     },
     "execution_count": 290,
     "metadata": {},
     "output_type": "execute_result"
    }
   ],
   "source": [
    "#revenues/profits : who are the customers corresponding to highest sales_amt\n",
    "merged.groupby('cust_id').sales_amt.sum().sort_values(ascending=False)"
   ]
  },
  {
   "cell_type": "code",
   "execution_count": 291,
   "id": "719e125c",
   "metadata": {
    "collapsed": true
   },
   "outputs": [
    {
     "data": {
      "text/plain": [
       "cust_id\n",
       "1135252713        893\n",
       "1147458804        771\n",
       "1143554806        636\n",
       "1130048984        439\n",
       "1127306013        390\n",
       "                 ... \n",
       "1152031000          1\n",
       "1152030759          1\n",
       "1152030690          1\n",
       "1152030597          1\n",
       "60003136139480      1\n",
       "Name: trans_id, Length: 2538690, dtype: int64"
      ]
     },
     "execution_count": 291,
     "metadata": {},
     "output_type": "execute_result"
    }
   ],
   "source": [
    "#transactions/store visit: who are the customers with highest number of transactions?\n",
    "merged.groupby('cust_id').trans_id.count().sort_values(ascending=False)\n",
    "#one cust can have multiple transactions(but the same cust has unique cust id), \n",
    "#here we want to calculating the count of transaction id with descending order"
   ]
  },
  {
   "cell_type": "code",
   "execution_count": 292,
   "id": "e2dbb4a0",
   "metadata": {
    "collapsed": true
   },
   "outputs": [
    {
     "data": {
      "text/plain": [
       "cust_id\n",
       "1135252713        893\n",
       "1147458804        771\n",
       "1143554806        636\n",
       "1130048984        439\n",
       "1127306013        390\n",
       "                 ... \n",
       "1152031000          1\n",
       "1152030759          1\n",
       "1152030690          1\n",
       "1152030597          1\n",
       "60003136139480      1\n",
       "Name: store_id, Length: 2538690, dtype: int64"
      ]
     },
     "execution_count": 292,
     "metadata": {},
     "output_type": "execute_result"
    }
   ],
   "source": [
    "merged.groupby('cust_id').store_id.count().sort_values(ascending=False)\n",
    "#same result"
   ]
  },
  {
   "cell_type": "code",
   "execution_count": 293,
   "id": "e0a269bc",
   "metadata": {
    "collapsed": true
   },
   "outputs": [
    {
     "data": {
      "text/plain": [
       "cust_id\n",
       "1135252713        744\n",
       "1147458804        638\n",
       "1143554806        533\n",
       "1130048984        370\n",
       "1127306013        348\n",
       "                 ... \n",
       "1151908598          1\n",
       "1151908449          1\n",
       "1151908268          1\n",
       "1151908250          1\n",
       "60003136139480      1\n",
       "Name: prod_id, Length: 2538690, dtype: int64"
      ]
     },
     "execution_count": 293,
     "metadata": {},
     "output_type": "execute_result"
    }
   ],
   "source": [
    "#number of products:\n",
    "# Customers that bought the most number of unique products\n",
    "\n",
    "merged.groupby('cust_id')['prod_id'].nunique().sort_values(ascending=False)"
   ]
  },
  {
   "cell_type": "code",
   "execution_count": 294,
   "id": "0daa7ff4",
   "metadata": {
    "collapsed": true
   },
   "outputs": [
    {
     "data": {
      "text/plain": [
       "cust_id\n",
       "1135252713        893\n",
       "1147458804        771\n",
       "1143554806        636\n",
       "1130048984        439\n",
       "1127306013        390\n",
       "                 ... \n",
       "1152031000          1\n",
       "1152030759          1\n",
       "1152030690          1\n",
       "1152030597          1\n",
       "60003136139480      1\n",
       "Name: prod_id, Length: 2538690, dtype: int64"
      ]
     },
     "execution_count": 294,
     "metadata": {},
     "output_type": "execute_result"
    }
   ],
   "source": [
    "#Customers that bought the most number of products (do not have to be unique)\n",
    "merged.groupby('cust_id').prod_id.count().sort_values(ascending=False)"
   ]
  },
  {
   "cell_type": "markdown",
   "id": "705eef75",
   "metadata": {},
   "source": [
    "### Question 2. \n",
    "What are the products and product groups with the best volumes, revenues, profits, transactions, customers, etc.?"
   ]
  },
  {
   "cell_type": "code",
   "execution_count": 295,
   "id": "ed0102a3",
   "metadata": {
    "collapsed": true
   },
   "outputs": [
    {
     "data": {
      "text/plain": [
       "prod_id\n",
       "20175355001    274230.00\n",
       "20027156       255373.90\n",
       "20425775001    204238.98\n",
       "20252014       194321.92\n",
       "20821992       176474.02\n",
       "                 ...    \n",
       "20964399            0.00\n",
       "20431737            0.00\n",
       "20669821            0.00\n",
       "20909605            0.00\n",
       "21065706            0.00\n",
       "Name: sales_amt, Length: 93271, dtype: float64"
      ]
     },
     "execution_count": 295,
     "metadata": {},
     "output_type": "execute_result"
    }
   ],
   "source": [
    "#products with highest revenue/profit\n",
    "merged.groupby('prod_id').sales_amt.sum().sort_values(ascending=False)"
   ]
  },
  {
   "cell_type": "code",
   "execution_count": 296,
   "id": "34d16ade",
   "metadata": {
    "collapsed": true
   },
   "outputs": [
    {
     "data": {
      "text/plain": [
       "prod_id\n",
       "20189092       414875\n",
       "20175355001    188493\n",
       "20070132001     58794\n",
       "20812144001     47993\n",
       "21097012001     42393\n",
       "                ...  \n",
       "21211144            1\n",
       "21211113            1\n",
       "21211103            1\n",
       "20896394            1\n",
       "21057509            1\n",
       "Name: trans_id, Length: 93271, dtype: int64"
      ]
     },
     "execution_count": 296,
     "metadata": {},
     "output_type": "execute_result"
    }
   ],
   "source": [
    "#products with highest transactions (not unique)\n",
    "merged.groupby('prod_id').trans_id.count().sort_values(ascending=False)"
   ]
  },
  {
   "cell_type": "code",
   "execution_count": 297,
   "id": "b6781a3d",
   "metadata": {
    "collapsed": true
   },
   "outputs": [
    {
     "data": {
      "text/plain": [
       "prod_id\n",
       "20189092       414874\n",
       "20175355001    187130\n",
       "20070132001     58521\n",
       "20812144001     47255\n",
       "20145621001     40483\n",
       "                ...  \n",
       "21096981            1\n",
       "20139446004         1\n",
       "20417054            1\n",
       "20157510            1\n",
       "21051703            1\n",
       "Name: trans_id, Length: 91086, dtype: int64"
      ]
     },
     "execution_count": 297,
     "metadata": {},
     "output_type": "execute_result"
    }
   ],
   "source": [
    "#products with highest UNIQUE transaction\n",
    "merged.drop_duplicates(['trans_id', 'cust_id']).groupby('prod_id')['trans_id'].count().sort_values(ascending=False)"
   ]
  },
  {
   "cell_type": "markdown",
   "id": "513b2489",
   "metadata": {},
   "source": [
    "### Question 3. \n",
    "Which stores rank the highest in volumes, revenues, profits, transactions, customers, etc.?"
   ]
  },
  {
   "cell_type": "code",
   "execution_count": 298,
   "id": "bd0f5a25",
   "metadata": {
    "collapsed": true
   },
   "outputs": [
    {
     "data": {
      "text/plain": [
       "store_id\n",
       "1212    2675844.14\n",
       "1050    2464376.93\n",
       "1004    2307552.72\n",
       "1007    2287509.86\n",
       "1066    2237201.63\n",
       "1021    2133418.45\n",
       "1035    2057083.62\n",
       "1011    1882242.48\n",
       "1027    1859250.05\n",
       "1040    1807083.22\n",
       "1188    1751962.57\n",
       "1016    1704509.69\n",
       "1019    1635009.15\n",
       "1051    1597033.05\n",
       "1114    1583250.10\n",
       "1001    1577339.09\n",
       "1028    1539080.94\n",
       "1194    1500092.86\n",
       "1014    1498331.44\n",
       "1079    1497531.42\n",
       "1099    1487976.29\n",
       "1029    1448639.00\n",
       "1032    1405422.68\n",
       "1005    1384601.16\n",
       "1083    1377363.17\n",
       "1010    1352160.08\n",
       "1000    1324403.93\n",
       "1127    1281151.98\n",
       "1092    1279249.16\n",
       "1022    1222848.72\n",
       "1090    1145485.31\n",
       "1095    1079456.53\n",
       "1003    1075788.65\n",
       "1170    1062037.01\n",
       "1155     937594.38\n",
       "1064     916251.02\n",
       "1082     858166.69\n",
       "1020     796611.34\n",
       "1132     728584.78\n",
       "1208     650949.34\n",
       "1154     640711.25\n",
       "1174     632221.87\n",
       "1023     616004.58\n",
       "1200     538544.95\n",
       "1179     493150.52\n",
       "1142     382755.41\n",
       "1424      84735.01\n",
       "1221       2481.46\n",
       "1211       1649.21\n",
       "1210       1630.52\n",
       "1222       1461.46\n",
       "1217       1455.84\n",
       "1227       1373.30\n",
       "1213       1308.40\n",
       "1231       1112.34\n",
       "1220       1096.29\n",
       "1214        937.66\n",
       "1223        754.64\n",
       "Name: sales_amt, dtype: float64"
      ]
     },
     "execution_count": 298,
     "metadata": {},
     "output_type": "execute_result"
    }
   ],
   "source": [
    "#stores with highest revenues/profit\n",
    "merged.groupby('store_id').sales_amt.sum().sort_values(ascending=False)"
   ]
  },
  {
   "cell_type": "code",
   "execution_count": 299,
   "id": "dae2dd30",
   "metadata": {
    "collapsed": true
   },
   "outputs": [
    {
     "data": {
      "text/plain": [
       "store_id\n",
       "1212    489875\n",
       "1007    452125\n",
       "1050    445353\n",
       "1004    413001\n",
       "1066    396121\n",
       "1021    370009\n",
       "1035    365963\n",
       "1027    341037\n",
       "1040    337187\n",
       "1011    327956\n",
       "1188    319490\n",
       "1016    312723\n",
       "1019    302143\n",
       "1051    296643\n",
       "1114    289974\n",
       "1001    280824\n",
       "1014    276240\n",
       "1000    273330\n",
       "1079    272336\n",
       "1010    267774\n",
       "1194    266724\n",
       "1029    264509\n",
       "1099    264198\n",
       "1028    261184\n",
       "1083    252441\n",
       "1005    246643\n",
       "1032    241226\n",
       "1170    229138\n",
       "1127    228988\n",
       "1092    223562\n",
       "1022    223003\n",
       "1095    220521\n",
       "1090    199939\n",
       "1003    188152\n",
       "1020    171438\n",
       "1155    170833\n",
       "1064    169949\n",
       "1082    161566\n",
       "1132    145334\n",
       "1154    125732\n",
       "1174    125197\n",
       "1023    119161\n",
       "1208    116434\n",
       "1200    107687\n",
       "1179    103774\n",
       "1142     83772\n",
       "1424     16149\n",
       "1221       189\n",
       "1210       140\n",
       "1211       124\n",
       "1222       124\n",
       "1227       119\n",
       "1217       118\n",
       "1213       112\n",
       "1231       104\n",
       "1220       103\n",
       "1214        89\n",
       "1223        64\n",
       "Name: trans_id, dtype: int64"
      ]
     },
     "execution_count": 299,
     "metadata": {},
     "output_type": "execute_result"
    }
   ],
   "source": [
    "#stores with highest transactions\n",
    "merged.groupby('store_id').trans_id.count().sort_values(ascending=False)"
   ]
  },
  {
   "cell_type": "code",
   "execution_count": 300,
   "id": "def0b0dc",
   "metadata": {
    "collapsed": true
   },
   "outputs": [
    {
     "data": {
      "text/plain": [
       "store_id\n",
       "1212    444551\n",
       "1007    422641\n",
       "1050    407451\n",
       "1004    371172\n",
       "1066    359791\n",
       "1035    331364\n",
       "1021    330864\n",
       "1027    309917\n",
       "1040    309577\n",
       "1011    298944\n",
       "1188    289607\n",
       "1016    284518\n",
       "1019    279381\n",
       "1051    271238\n",
       "1114    264740\n",
       "1000    255580\n",
       "1001    254055\n",
       "1010    253621\n",
       "1014    252960\n",
       "1079    247356\n",
       "1029    240708\n",
       "1028    239926\n",
       "1194    239300\n",
       "1099    237136\n",
       "1083    229891\n",
       "1005    222621\n",
       "1032    220774\n",
       "1170    213835\n",
       "1127    208163\n",
       "1095    204127\n",
       "1022    203731\n",
       "1092    196882\n",
       "1090    181462\n",
       "1003    172565\n",
       "1020    162246\n",
       "1155    156487\n",
       "1064    154621\n",
       "1082    147908\n",
       "1132    136235\n",
       "1174    116444\n",
       "1154    115427\n",
       "1023    109691\n",
       "1208    107612\n",
       "1200    101021\n",
       "1179     97696\n",
       "1142     80765\n",
       "1424     15120\n",
       "1221       188\n",
       "1210       139\n",
       "1222       124\n",
       "1211       123\n",
       "1227       119\n",
       "1217       118\n",
       "1213       111\n",
       "1231       104\n",
       "1220       103\n",
       "1214        88\n",
       "1223        64\n",
       "Name: trans_id, dtype: int64"
      ]
     },
     "execution_count": 300,
     "metadata": {},
     "output_type": "execute_result"
    }
   ],
   "source": [
    "#stores with highest UNIQUE transactions\n",
    "merged.drop_duplicates(['trans_id', 'cust_id']).groupby('store_id')['trans_id'].count().sort_values(ascending=False)"
   ]
  },
  {
   "cell_type": "code",
   "execution_count": 301,
   "id": "3646c678",
   "metadata": {
    "collapsed": true
   },
   "outputs": [
    {
     "data": {
      "text/plain": [
       "store_id\n",
       "1212    489875\n",
       "1007    452125\n",
       "1050    445353\n",
       "1004    413001\n",
       "1066    396121\n",
       "1021    370009\n",
       "1035    365963\n",
       "1027    341037\n",
       "1040    337187\n",
       "1011    327956\n",
       "1188    319490\n",
       "1016    312723\n",
       "1019    302143\n",
       "1051    296643\n",
       "1114    289974\n",
       "1001    280824\n",
       "1014    276240\n",
       "1000    273330\n",
       "1079    272336\n",
       "1010    267774\n",
       "1194    266724\n",
       "1029    264509\n",
       "1099    264198\n",
       "1028    261184\n",
       "1083    252441\n",
       "1005    246643\n",
       "1032    241226\n",
       "1170    229138\n",
       "1127    228988\n",
       "1092    223562\n",
       "1022    223003\n",
       "1095    220521\n",
       "1090    199939\n",
       "1003    188152\n",
       "1020    171438\n",
       "1155    170833\n",
       "1064    169949\n",
       "1082    161566\n",
       "1132    145334\n",
       "1154    125732\n",
       "1174    125197\n",
       "1023    119161\n",
       "1208    116434\n",
       "1200    107687\n",
       "1179    103774\n",
       "1142     83772\n",
       "1424     16149\n",
       "1221       189\n",
       "1210       140\n",
       "1211       124\n",
       "1222       124\n",
       "1227       119\n",
       "1217       118\n",
       "1213       112\n",
       "1231       104\n",
       "1220       103\n",
       "1214        89\n",
       "1223        64\n",
       "Name: cust_id, dtype: int64"
      ]
     },
     "execution_count": 301,
     "metadata": {},
     "output_type": "execute_result"
    }
   ],
   "source": [
    "#stores with highst number of customers\n",
    "merged.groupby('store_id').cust_id.count().sort_values(ascending=False)"
   ]
  },
  {
   "cell_type": "markdown",
   "id": "27e98539",
   "metadata": {},
   "source": [
    "### Question 4 \n",
    "Are there interesting groupings of customers, e.g., most valuable (buy everything at any price) or cherry-pickers (buy mostly on promotions), defined by certain categories (buy baby products or never buy milk), etc.?"
   ]
  },
  {
   "cell_type": "code",
   "execution_count": 302,
   "id": "9b3991c4",
   "metadata": {
    "collapsed": true
   },
   "outputs": [
    {
     "data": {
      "text/plain": [
       "357540      0.0\n",
       "381532      0.0\n",
       "363201      0.0\n",
       "381531      0.0\n",
       "363202      0.0\n",
       "           ... \n",
       "11124491    NaN\n",
       "11124569    NaN\n",
       "11272333    NaN\n",
       "11564161    NaN\n",
       "11737319    NaN\n",
       "Name: unit_price, Length: 11758644, dtype: float64"
      ]
     },
     "execution_count": 302,
     "metadata": {},
     "output_type": "execute_result"
    }
   ],
   "source": [
    "#calculate the discount rate of each product\n",
    "merged['unit_price'] = merged['sales_amt']/merged['sales_qty']\n",
    "merged['unit_price'].sort_values()"
   ]
  },
  {
   "cell_type": "code",
   "execution_count": 303,
   "id": "436d1928",
   "metadata": {
    "collapsed": true
   },
   "outputs": [
    {
     "data": {
      "text/plain": [
       "11758643    0.0\n",
       "8094717     0.0\n",
       "8094716     0.0\n",
       "8094715     0.0\n",
       "8094709     0.0\n",
       "           ... \n",
       "11712565    NaN\n",
       "11712566    NaN\n",
       "11712567    NaN\n",
       "11737319    NaN\n",
       "11755087    NaN\n",
       "Name: discount_rate, Length: 11758644, dtype: float64"
      ]
     },
     "execution_count": 303,
     "metadata": {},
     "output_type": "execute_result"
    }
   ],
   "source": [
    "merged['max_price'] = merged.groupby(['prod_id'])['unit_price'].transform('max')\n",
    "merged['discount_rate'] =  round((merged['max_price']-merged['unit_price'])/merged['max_price'],4)*100\n",
    "merged['discount_rate'].sort_values(ascending = True)"
   ]
  },
  {
   "cell_type": "code",
   "execution_count": 304,
   "id": "27bd6a46",
   "metadata": {
    "collapsed": true
   },
   "outputs": [
    {
     "data": {
      "text/plain": [
       "3204776       1\n",
       "1352641       1\n",
       "1352640       1\n",
       "8328750       1\n",
       "1352638       1\n",
       "           ... \n",
       "8216935     800\n",
       "1995398     800\n",
       "10893364    800\n",
       "5364923     800\n",
       "11397350    800\n",
       "Name: frequency, Length: 11758644, dtype: int64"
      ]
     },
     "execution_count": 304,
     "metadata": {},
     "output_type": "execute_result"
    }
   ],
   "source": [
    "#calculate frequency of customer (total purchase times)\n",
    "merged['frequency'] = merged.groupby(['cust_id'])['trans_id'].transform(lambda x: x.nunique())\n",
    "merged['frequency'].sort_values(ascending = True)\n",
    "#merged.head()"
   ]
  },
  {
   "cell_type": "code",
   "execution_count": 305,
   "id": "04188d9a",
   "metadata": {},
   "outputs": [
    {
     "data": {
      "text/plain": [
       "982"
      ]
     },
     "execution_count": 305,
     "metadata": {},
     "output_type": "execute_result"
    }
   ],
   "source": [
    "from datetime import datetime\n",
    "\n",
    "dmax = datetime.strptime(merged['trans_dt'].max() , \"%m/%d/%Y\")\n",
    "dmin =  datetime.strptime(merged['trans_dt'].min(), \"%m/%d/%Y\")\n",
    "interval =  abs((dmax - dmin).days)\n",
    "interval"
   ]
  },
  {
   "cell_type": "code",
   "execution_count": 385,
   "id": "fad17d1e",
   "metadata": {},
   "outputs": [
    {
     "data": {
      "text/plain": [
       "Timestamp('2020-12-25 00:00:00')"
      ]
     },
     "execution_count": 385,
     "metadata": {},
     "output_type": "execute_result"
    }
   ],
   "source": [
    "merged['trans_dt'].max()"
   ]
  },
  {
   "cell_type": "code",
   "execution_count": 386,
   "id": "5027126d",
   "metadata": {},
   "outputs": [
    {
     "name": "stderr",
     "output_type": "stream",
     "text": [
      "C:\\Users\\sendt\\AppData\\Local\\Temp/ipykernel_10848/824272883.py:1: SettingWithCopyWarning: \n",
      "A value is trying to be set on a copy of a slice from a DataFrame.\n",
      "Try using .loc[row_indexer,col_indexer] = value instead\n",
      "\n",
      "See the caveats in the documentation: https://pandas.pydata.org/pandas-docs/stable/user_guide/indexing.html#returning-a-view-versus-a-copy\n",
      "  merged['last_shopping'] = merged.groupby(['cust_id'])['trans_dt'].transform('max')\n"
     ]
    }
   ],
   "source": [
    "merged['last_shopping'] = merged.groupby(['cust_id'])['trans_dt'].transform('max')"
   ]
  },
  {
   "cell_type": "code",
   "execution_count": 387,
   "id": "1d8882ea",
   "metadata": {},
   "outputs": [
    {
     "data": {
      "text/plain": [
       "0          2018-08-19\n",
       "1          2017-06-24\n",
       "2          2018-02-03\n",
       "3          2017-11-02\n",
       "4          2020-10-31\n",
       "              ...    \n",
       "11758639   2020-12-24\n",
       "11758640   2020-12-24\n",
       "11758641   2020-12-24\n",
       "11758642   2020-12-24\n",
       "11758643   2020-12-23\n",
       "Name: last_shopping, Length: 11572350, dtype: datetime64[ns]"
      ]
     },
     "execution_count": 387,
     "metadata": {},
     "output_type": "execute_result"
    }
   ],
   "source": [
    "merged['last_shopping']"
   ]
  },
  {
   "cell_type": "code",
   "execution_count": 388,
   "id": "d0ff4e24",
   "metadata": {},
   "outputs": [
    {
     "name": "stderr",
     "output_type": "stream",
     "text": [
      "C:\\Users\\sendt\\AppData\\Local\\Temp/ipykernel_10848/2573927441.py:1: SettingWithCopyWarning: \n",
      "A value is trying to be set on a copy of a slice from a DataFrame.\n",
      "Try using .loc[row_indexer,col_indexer] = value instead\n",
      "\n",
      "See the caveats in the documentation: https://pandas.pydata.org/pandas-docs/stable/user_guide/indexing.html#returning-a-view-versus-a-copy\n",
      "  merged['last_shopping'] = pd.to_datetime(merged['last_shopping'])\n"
     ]
    }
   ],
   "source": [
    "merged['last_shopping'] = pd.to_datetime(merged['last_shopping'])"
   ]
  },
  {
   "cell_type": "code",
   "execution_count": null,
   "id": "a3cf351a",
   "metadata": {},
   "outputs": [],
   "source": []
  },
  {
   "cell_type": "code",
   "execution_count": 389,
   "id": "cefaf6ce",
   "metadata": {},
   "outputs": [
    {
     "name": "stderr",
     "output_type": "stream",
     "text": [
      "C:\\Users\\sendt\\AppData\\Local\\Temp/ipykernel_10848/113985253.py:2: SettingWithCopyWarning: \n",
      "A value is trying to be set on a copy of a slice from a DataFrame.\n",
      "Try using .loc[row_indexer,col_indexer] = value instead\n",
      "\n",
      "See the caveats in the documentation: https://pandas.pydata.org/pandas-docs/stable/user_guide/indexing.html#returning-a-view-versus-a-copy\n",
      "  merged['recency'] = abs(pd.to_datetime(dmax) - merged['last_shopping'])\n",
      "C:\\Users\\sendt\\AppData\\Local\\Temp/ipykernel_10848/113985253.py:3: SettingWithCopyWarning: \n",
      "A value is trying to be set on a copy of a slice from a DataFrame.\n",
      "Try using .loc[row_indexer,col_indexer] = value instead\n",
      "\n",
      "See the caveats in the documentation: https://pandas.pydata.org/pandas-docs/stable/user_guide/indexing.html#returning-a-view-versus-a-copy\n",
      "  merged['recency'] = (merged['recency']/ np.timedelta64(1, 'D')).astype(int)\n"
     ]
    },
    {
     "data": {
      "text/plain": [
       "1509918        0\n",
       "6281360        0\n",
       "1345547        0\n",
       "3286952        0\n",
       "10501513       0\n",
       "            ... \n",
       "5104768     1173\n",
       "8360910     1173\n",
       "4940664     1173\n",
       "1500263     1173\n",
       "4696007     1173\n",
       "Name: recency, Length: 11572350, dtype: int32"
      ]
     },
     "execution_count": 389,
     "metadata": {},
     "output_type": "execute_result"
    }
   ],
   "source": [
    "#calculate recency of customer (average time interval between two perchase)\n",
    "merged['recency'] = abs(pd.to_datetime(dmax) - merged['last_shopping'])\n",
    "merged['recency'] = (merged['recency']/ np.timedelta64(1, 'D')).astype(int)\n",
    "\n",
    "merged['recency'].sort_values(ascending = True)"
   ]
  },
  {
   "cell_type": "code",
   "execution_count": 390,
   "id": "68251b7a",
   "metadata": {},
   "outputs": [
    {
     "name": "stderr",
     "output_type": "stream",
     "text": [
      "C:\\Users\\sendt\\AppData\\Local\\Temp/ipykernel_10848/3073168723.py:3: SettingWithCopyWarning: \n",
      "A value is trying to be set on a copy of a slice from a DataFrame.\n",
      "Try using .loc[row_indexer,col_indexer] = value instead\n",
      "\n",
      "See the caveats in the documentation: https://pandas.pydata.org/pandas-docs/stable/user_guide/indexing.html#returning-a-view-versus-a-copy\n",
      "  merged['monetary'] = merged.groupby(['cust_id','trans_id'])['sales_amt'].transform('mean')\n"
     ]
    },
    {
     "data": {
      "text/plain": [
       "370287         0.00\n",
       "363340         0.00\n",
       "363343         0.00\n",
       "363344         0.00\n",
       "363345         0.00\n",
       "             ...   \n",
       "11663965    1397.20\n",
       "8961434     1399.30\n",
       "2225150     2086.00\n",
       "10748495    4954.23\n",
       "8961406     4956.39\n",
       "Name: monetary, Length: 11572350, dtype: float64"
      ]
     },
     "execution_count": 390,
     "metadata": {},
     "output_type": "execute_result"
    }
   ],
   "source": [
    "#calculate monetary of customer (average money spent for each purchase)\n",
    "\n",
    "merged['monetary'] = merged.groupby(['cust_id','trans_id'])['sales_amt'].transform('mean')\n",
    "merged['monetary'].sort_values(ascending = True)\n"
   ]
  },
  {
   "cell_type": "code",
   "execution_count": 391,
   "id": "8e7e6af9",
   "metadata": {},
   "outputs": [
    {
     "name": "stderr",
     "output_type": "stream",
     "text": [
      "C:\\Users\\sendt\\AppData\\Local\\Temp/ipykernel_10848/1957128140.py:2: SettingWithCopyWarning: \n",
      "A value is trying to be set on a copy of a slice from a DataFrame.\n",
      "Try using .loc[row_indexer,col_indexer] = value instead\n",
      "\n",
      "See the caveats in the documentation: https://pandas.pydata.org/pandas-docs/stable/user_guide/indexing.html#returning-a-view-versus-a-copy\n",
      "  merged['avg_discount'] = merged.groupby(['cust_id'])['discount_rate'].transform('mean')\n"
     ]
    },
    {
     "data": {
      "text/plain": [
       "7070954       0.0\n",
       "10914282      0.0\n",
       "10914280      0.0\n",
       "10914273      0.0\n",
       "10914271      0.0\n",
       "            ...  \n",
       "370802      100.0\n",
       "357698      100.0\n",
       "357711      100.0\n",
       "370823      100.0\n",
       "376261      100.0\n",
       "Name: avg_discount, Length: 11572350, dtype: float64"
      ]
     },
     "execution_count": 391,
     "metadata": {},
     "output_type": "execute_result"
    }
   ],
   "source": [
    "# Calculate the average discount rate for each customer\n",
    "merged['avg_discount'] = merged.groupby(['cust_id'])['discount_rate'].transform('mean')\n",
    "merged['avg_discount'].sort_values(ascending = True)"
   ]
  },
  {
   "cell_type": "code",
   "execution_count": 392,
   "id": "487468ac",
   "metadata": {},
   "outputs": [
    {
     "data": {
      "text/plain": [
       "85"
      ]
     },
     "execution_count": 392,
     "metadata": {},
     "output_type": "execute_result"
    }
   ],
   "source": [
    "merged['prod_category'].nunique()"
   ]
  },
  {
   "cell_type": "code",
   "execution_count": 393,
   "id": "3369a583",
   "metadata": {},
   "outputs": [
    {
     "data": {
      "text/plain": [
       "28"
      ]
     },
     "execution_count": 393,
     "metadata": {},
     "output_type": "execute_result"
    }
   ],
   "source": [
    "merged['prod_section'].nunique()"
   ]
  },
  {
   "cell_type": "code",
   "execution_count": 394,
   "id": "db41238b",
   "metadata": {},
   "outputs": [
    {
     "name": "stderr",
     "output_type": "stream",
     "text": [
      "C:\\Users\\sendt\\AppData\\Local\\Temp/ipykernel_10848/2755216691.py:3: FutureWarning: In a future version of pandas all arguments of DataFrame.drop_duplicates except for the argument 'subset' will be keyword-only\n",
      "  cus.drop_duplicates('cust_id','first',inplace = True)\n",
      "C:\\Users\\sendt\\anaconda3\\lib\\site-packages\\pandas\\util\\_decorators.py:311: SettingWithCopyWarning: \n",
      "A value is trying to be set on a copy of a slice from a DataFrame\n",
      "\n",
      "See the caveats in the documentation: https://pandas.pydata.org/pandas-docs/stable/user_guide/indexing.html#returning-a-view-versus-a-copy\n",
      "  return func(*args, **kwargs)\n"
     ]
    }
   ],
   "source": [
    "cus = merged[['cust_id','avg_discount','frequency','recency','monetary']]\n",
    "\n",
    "cus.drop_duplicates('cust_id','first',inplace = True)"
   ]
  },
  {
   "cell_type": "code",
   "execution_count": 395,
   "id": "19f082d6",
   "metadata": {},
   "outputs": [
    {
     "data": {
      "text/html": [
       "<div>\n",
       "<style scoped>\n",
       "    .dataframe tbody tr th:only-of-type {\n",
       "        vertical-align: middle;\n",
       "    }\n",
       "\n",
       "    .dataframe tbody tr th {\n",
       "        vertical-align: top;\n",
       "    }\n",
       "\n",
       "    .dataframe thead th {\n",
       "        text-align: right;\n",
       "    }\n",
       "</style>\n",
       "<table border=\"1\" class=\"dataframe\">\n",
       "  <thead>\n",
       "    <tr style=\"text-align: right;\">\n",
       "      <th></th>\n",
       "      <th>avg_discount</th>\n",
       "      <th>frequency</th>\n",
       "      <th>recency</th>\n",
       "      <th>monetary</th>\n",
       "    </tr>\n",
       "  </thead>\n",
       "  <tbody>\n",
       "    <tr>\n",
       "      <th>0</th>\n",
       "      <td>44.439231</td>\n",
       "      <td>10</td>\n",
       "      <td>752</td>\n",
       "      <td>2.490</td>\n",
       "    </tr>\n",
       "    <tr>\n",
       "      <th>1</th>\n",
       "      <td>50.100000</td>\n",
       "      <td>1</td>\n",
       "      <td>1173</td>\n",
       "      <td>2.490</td>\n",
       "    </tr>\n",
       "    <tr>\n",
       "      <th>2</th>\n",
       "      <td>29.225000</td>\n",
       "      <td>2</td>\n",
       "      <td>949</td>\n",
       "      <td>2.490</td>\n",
       "    </tr>\n",
       "    <tr>\n",
       "      <th>3</th>\n",
       "      <td>56.963333</td>\n",
       "      <td>2</td>\n",
       "      <td>1042</td>\n",
       "      <td>1.995</td>\n",
       "    </tr>\n",
       "    <tr>\n",
       "      <th>4</th>\n",
       "      <td>30.850500</td>\n",
       "      <td>18</td>\n",
       "      <td>52</td>\n",
       "      <td>3.740</td>\n",
       "    </tr>\n",
       "  </tbody>\n",
       "</table>\n",
       "</div>"
      ],
      "text/plain": [
       "   avg_discount  frequency  recency  monetary\n",
       "0     44.439231         10      752     2.490\n",
       "1     50.100000          1     1173     2.490\n",
       "2     29.225000          2      949     2.490\n",
       "3     56.963333          2     1042     1.995\n",
       "4     30.850500         18       52     3.740"
      ]
     },
     "execution_count": 395,
     "metadata": {},
     "output_type": "execute_result"
    }
   ],
   "source": [
    "X = cus.iloc[:,1:]\n",
    "X.head()"
   ]
  },
  {
   "cell_type": "code",
   "execution_count": 396,
   "id": "7b5d96e8",
   "metadata": {},
   "outputs": [],
   "source": [
    "#build kmeans model\n",
    "from sklearn.cluster import KMeans\n",
    "from sklearn.metrics import silhouette_score\n",
    "from sklearn.preprocessing import StandardScaler\n",
    "\n",
    "scaler = StandardScaler().fit(X.values)\n",
    "features = scaler.transform(X.values)"
   ]
  },
  {
   "cell_type": "code",
   "execution_count": 397,
   "id": "43b0abf9",
   "metadata": {},
   "outputs": [
    {
     "data": {
      "text/plain": [
       "Text(0, 0.5, 'Inertia')"
      ]
     },
     "execution_count": 397,
     "metadata": {},
     "output_type": "execute_result"
    },
    {
     "data": {
      "image/png": "[encoded data removed]",
      "text/plain": [
       "<Figure size 864x432 with 1 Axes>"
      ]
     },
     "metadata": {
      "needs_background": "light"
     },
     "output_type": "display_data"
    }
   ],
   "source": [
    "SSE = []\n",
    "\n",
    "for cluster in range(1,6):\n",
    "    kmeans = KMeans(n_clusters = cluster, init='k-means++')\n",
    "    kmeans.fit(X)\n",
    "    SSE.append(kmeans.inertia_)\n",
    "\n",
    "# converting the results into a dataframe and plotting them\n",
    "\n",
    "frame = pd.DataFrame({'Cluster':range(1,6), 'SSE':SSE})\n",
    "plt.figure(figsize=(12,6))\n",
    "plt.plot(frame['Cluster'], frame['SSE'], marker='o')\n",
    "plt.xlabel('Number of clusters')\n",
    "plt.ylabel('Inertia')"
   ]
  },
  {
   "cell_type": "code",
   "execution_count": 398,
   "id": "23f0d5b9",
   "metadata": {},
   "outputs": [
    {
     "name": "stderr",
     "output_type": "stream",
     "text": [
      "C:\\Users\\sendt\\AppData\\Local\\Temp/ipykernel_10848/199753168.py:4: SettingWithCopyWarning: \n",
      "A value is trying to be set on a copy of a slice from a DataFrame.\n",
      "Try using .loc[row_indexer,col_indexer] = value instead\n",
      "\n",
      "See the caveats in the documentation: https://pandas.pydata.org/pandas-docs/stable/user_guide/indexing.html#returning-a-view-versus-a-copy\n",
      "  cus['cluster'] = cus_cluster\n"
     ]
    }
   ],
   "source": [
    "#According to elbow rule, there is 3 clusters\n",
    "cus_cluster = KMeans(3).fit_predict(X)\n",
    "\n",
    "cus['cluster'] = cus_cluster\n"
   ]
  },
  {
   "cell_type": "code",
   "execution_count": 399,
   "id": "70e98edf",
   "metadata": {},
   "outputs": [
    {
     "name": "stderr",
     "output_type": "stream",
     "text": [
      "C:\\Users\\sendt\\AppData\\Local\\Temp/ipykernel_10848/3231502267.py:1: FutureWarning: Indexing with multiple keys (implicitly converted to a tuple of keys) will be deprecated, use a list instead.\n",
      "  cus.groupby(['cluster'])['avg_discount','frequency','recency','monetary'].agg('mean')\n"
     ]
    },
    {
     "data": {
      "text/html": [
       "<div>\n",
       "<style scoped>\n",
       "    .dataframe tbody tr th:only-of-type {\n",
       "        vertical-align: middle;\n",
       "    }\n",
       "\n",
       "    .dataframe tbody tr th {\n",
       "        vertical-align: top;\n",
       "    }\n",
       "\n",
       "    .dataframe thead th {\n",
       "        text-align: right;\n",
       "    }\n",
       "</style>\n",
       "<table border=\"1\" class=\"dataframe\">\n",
       "  <thead>\n",
       "    <tr style=\"text-align: right;\">\n",
       "      <th></th>\n",
       "      <th>avg_discount</th>\n",
       "      <th>frequency</th>\n",
       "      <th>recency</th>\n",
       "      <th>monetary</th>\n",
       "    </tr>\n",
       "    <tr>\n",
       "      <th>cluster</th>\n",
       "      <th></th>\n",
       "      <th></th>\n",
       "      <th></th>\n",
       "      <th></th>\n",
       "    </tr>\n",
       "  </thead>\n",
       "  <tbody>\n",
       "    <tr>\n",
       "      <th>0</th>\n",
       "      <td>36.765840</td>\n",
       "      <td>1.520278</td>\n",
       "      <td>954.683370</td>\n",
       "      <td>5.055955</td>\n",
       "    </tr>\n",
       "    <tr>\n",
       "      <th>1</th>\n",
       "      <td>32.306475</td>\n",
       "      <td>6.774645</td>\n",
       "      <td>111.519923</td>\n",
       "      <td>4.410464</td>\n",
       "    </tr>\n",
       "    <tr>\n",
       "      <th>2</th>\n",
       "      <td>34.709507</td>\n",
       "      <td>2.405530</td>\n",
       "      <td>514.941711</td>\n",
       "      <td>4.924810</td>\n",
       "    </tr>\n",
       "  </tbody>\n",
       "</table>\n",
       "</div>"
      ],
      "text/plain": [
       "         avg_discount  frequency     recency  monetary\n",
       "cluster                                               \n",
       "0           36.765840   1.520278  954.683370  5.055955\n",
       "1           32.306475   6.774645  111.519923  4.410464\n",
       "2           34.709507   2.405530  514.941711  4.924810"
      ]
     },
     "execution_count": 399,
     "metadata": {},
     "output_type": "execute_result"
    }
   ],
   "source": [
    "cus.groupby(['cluster'])['avg_discount','frequency','recency','monetary'].agg('mean')\n",
    "\n",
    "\n",
    "#group 0： high value customer, not sensitive to price and discount\n",
    "#group 1: frequent customer, spending middle amount of money\n",
    "#group 2: cherry-pickers, spending least amount of money"
   ]
  },
  {
   "cell_type": "code",
   "execution_count": 400,
   "id": "5e1daa0f",
   "metadata": {},
   "outputs": [
    {
     "data": {
      "text/plain": [
       "cluster\n",
       "0     659167\n",
       "1    1204056\n",
       "2     653247\n",
       "Name: cust_id, dtype: int64"
      ]
     },
     "execution_count": 400,
     "metadata": {},
     "output_type": "execute_result"
    }
   ],
   "source": [
    "cus.groupby(['cluster'])['cust_id'].agg('nunique')"
   ]
  },
  {
   "cell_type": "code",
   "execution_count": 401,
   "id": "8d17892a",
   "metadata": {},
   "outputs": [
    {
     "data": {
      "image/png": "[encoded data removed]",
      "text/plain": [
       "<Figure size 432x288 with 1 Axes>"
      ]
     },
     "metadata": {
      "needs_background": "light"
     },
     "output_type": "display_data"
    }
   ],
   "source": [
    "fig = plt.figure()\n",
    "ax = fig.add_axes([0,0,1,1])\n",
    "def addlabels(x,y):\n",
    "    for i in range(len(x)):\n",
    "        plt.text(i, y[i], y[i], ha = 'center')\n",
    "\n",
    "\n",
    "heights = cus.groupby(['cluster'])['cust_id'].agg('nunique')\n",
    "customer = [\"cherry-picker\",\"fequent customer\",\"high-value customer\"]\n",
    "ax.bar(customer,height = heights)\n",
    "addlabels(customer,heights)\n",
    "plt.title(\"number of customers in each group\")\n",
    "plt.show()"
   ]
  },
  {
   "cell_type": "code",
   "execution_count": 404,
   "id": "80c497b0",
   "metadata": {},
   "outputs": [],
   "source": [
    "cust_cluster = cus[['cust_id','cluster']]"
   ]
  },
  {
   "cell_type": "code",
   "execution_count": 405,
   "id": "1c369fe0",
   "metadata": {},
   "outputs": [],
   "source": [
    "merged1 = merged.merge(cust_cluster, how=\"inner\", on=\"cust_id\")"
   ]
  },
  {
   "cell_type": "code",
   "execution_count": 406,
   "id": "9c6de546",
   "metadata": {},
   "outputs": [
    {
     "data": {
      "text/plain": [
       "cluster\n",
       "0     5551242.98\n",
       "1    48382225.30\n",
       "2     8811898.44\n",
       "Name: sales_amt, dtype: float64"
      ]
     },
     "execution_count": 406,
     "metadata": {},
     "output_type": "execute_result"
    }
   ],
   "source": [
    "merged1.groupby(['cluster'])['sales_amt'].agg('sum')"
   ]
  },
  {
   "cell_type": "code",
   "execution_count": 407,
   "id": "f7e098ad",
   "metadata": {},
   "outputs": [
    {
     "data": {
      "image/png": "[encoded data removed]",
      "text/plain": [
       "<Figure size 432x288 with 1 Axes>"
      ]
     },
     "metadata": {
      "needs_background": "light"
     },
     "output_type": "display_data"
    }
   ],
   "source": [
    "fig = plt.figure()\n",
    "ax = fig.add_axes([0,0,1,1])\n",
    "\n",
    "heights = merged1.groupby(['cluster'])['sales_amt'].agg('sum')\n",
    "customer = [\"cherry-picker\",\"fequent customer\",\"high-value customer\"]\n",
    "ax.bar(customer,height = heights)\n",
    "addlabels(customer,heights)\n",
    "\n",
    "plt.title(\"total spending for each group($)\")\n",
    "plt.show()"
   ]
  },
  {
   "cell_type": "markdown",
   "id": "46833477",
   "metadata": {},
   "source": [
    "### Question5.\n",
    "Other than product categories and sub-categories, are there other product groupings, e.g., Key Value Items (KVI) and Key Value Categories (KVC), traffic drivers, always promoted versus seldom/never promoted, etc.? "
   ]
  },
  {
   "cell_type": "code",
   "execution_count": 309,
   "id": "80a543f3",
   "metadata": {},
   "outputs": [
    {
     "name": "stdout",
     "output_type": "stream",
     "text": [
      "No. of Category: 85 \n",
      "\n",
      "No. of Subcategory: 371\n"
     ]
    }
   ],
   "source": [
    "print(f\"No. of Category: {len(merged['prod_category'].unique())}\", \"\\n\")\n",
    "print(f\"No. of Subcategory: {len(merged['prod_subcategory'].unique())}\")"
   ]
  },
  {
   "cell_type": "code",
   "execution_count": 310,
   "id": "517ae693",
   "metadata": {},
   "outputs": [
    {
     "data": {
      "text/plain": [
       "prod_category\n",
       "Natural Foods              6756\n",
       "Kitchen Prep               4728\n",
       "Reading                    3265\n",
       "Colour Cosmetics - Mass    3218\n",
       "Snacks                     3137\n",
       "                           ... \n",
       "Restaurant Disposable         5\n",
       "Portraits                     4\n",
       "Supplies                      1\n",
       "Spirits                       1\n",
       "Cosmetic Treatments           1\n",
       "Name: prod_id, Length: 85, dtype: int64"
      ]
     },
     "execution_count": 310,
     "metadata": {},
     "output_type": "execute_result"
    }
   ],
   "source": [
    "merged.groupby('prod_category').prod_id.\\\n",
    "apply(lambda x: len(list(np.unique(x)))).sort_values(ascending = False)"
   ]
  },
  {
   "cell_type": "code",
   "execution_count": 311,
   "id": "606cbb40",
   "metadata": {},
   "outputs": [
    {
     "data": {
      "text/plain": [
       "prod_category\n",
       "Vegetables               746944\n",
       "Fruit                    585762\n",
       "Snacks                   424019\n",
       "Household                352048\n",
       "Natural Foods            334527\n",
       "                          ...  \n",
       "Spirits                      14\n",
       "Restaurant Disposable         7\n",
       "Portraits                     4\n",
       "Supplies                      1\n",
       "Cosmetic Treatments           1\n",
       "Name: cust_id, Length: 85, dtype: int64"
      ]
     },
     "execution_count": 311,
     "metadata": {},
     "output_type": "execute_result"
    }
   ],
   "source": [
    "# how many customers belong to the product categories\n",
    "merged.groupby('prod_category').cust_id.\\\n",
    "apply(lambda x: len(list(np.unique(x)))).sort_values(ascending = False)"
   ]
  },
  {
   "cell_type": "code",
   "execution_count": 312,
   "id": "1e07e8b1",
   "metadata": {},
   "outputs": [
    {
     "data": {
      "text/plain": [
       "prod_category\n",
       "Vegetables               1543276\n",
       "Fruit                    1050135\n",
       "Snacks                    640044\n",
       "Natural Foods             595391\n",
       "Household                 450080\n",
       "                          ...   \n",
       "Spirits                       14\n",
       "Restaurant Disposable          7\n",
       "Portraits                      4\n",
       "Supplies                       1\n",
       "Cosmetic Treatments            1\n",
       "Name: trans_id, Length: 85, dtype: int64"
      ]
     },
     "execution_count": 312,
     "metadata": {},
     "output_type": "execute_result"
    }
   ],
   "source": [
    "# how frequent are the product categories\n",
    "merged.groupby('prod_category').trans_id.\\\n",
    "count().sort_values(ascending=False)"
   ]
  },
  {
   "cell_type": "code",
   "execution_count": 314,
   "id": "00603851",
   "metadata": {},
   "outputs": [
    {
     "data": {
      "text/plain": [
       "prod_category\n",
       "Vegetables               5732445.09\n",
       "Fruit                    4394924.19\n",
       "Natural Foods            3984398.00\n",
       "Snacks                   2412444.14\n",
       "HMR                      2152635.24\n",
       "                            ...    \n",
       "Spirits                      154.82\n",
       "Cosmetic Treatments           89.97\n",
       "Portraits                     36.33\n",
       "Restaurant Disposable         33.12\n",
       "Supplies                       6.99\n",
       "Name: sales_amt, Length: 85, dtype: float64"
      ]
     },
     "execution_count": 314,
     "metadata": {},
     "output_type": "execute_result"
    }
   ],
   "source": [
    " merged.groupby('prod_category').sales_amt.agg('sum').sort_values(ascending= False)"
   ]
  },
  {
   "cell_type": "code",
   "execution_count": 315,
   "id": "536807f0",
   "metadata": {},
   "outputs": [],
   "source": [
    "prod_cat_df = merged.groupby('prod_category').prod_id.\\\n",
    "apply(lambda x: len(list(np.unique(x)))).sort_values(ascending = False).\\\n",
    "to_frame()"
   ]
  },
  {
   "cell_type": "code",
   "execution_count": 316,
   "id": "725d79e8",
   "metadata": {},
   "outputs": [
    {
     "data": {
      "text/plain": [
       "85"
      ]
     },
     "execution_count": 316,
     "metadata": {},
     "output_type": "execute_result"
    }
   ],
   "source": [
    "prod_cat_df.shape[0]"
   ]
  },
  {
   "cell_type": "code",
   "execution_count": 317,
   "id": "1a5be50c",
   "metadata": {},
   "outputs": [
    {
     "data": {
      "text/html": [
       "<div>\n",
       "<style scoped>\n",
       "    .dataframe tbody tr th:only-of-type {\n",
       "        vertical-align: middle;\n",
       "    }\n",
       "\n",
       "    .dataframe tbody tr th {\n",
       "        vertical-align: top;\n",
       "    }\n",
       "\n",
       "    .dataframe thead th {\n",
       "        text-align: right;\n",
       "    }\n",
       "</style>\n",
       "<table border=\"1\" class=\"dataframe\">\n",
       "  <thead>\n",
       "    <tr style=\"text-align: right;\">\n",
       "      <th></th>\n",
       "      <th>prod_id</th>\n",
       "      <th>cust_count</th>\n",
       "      <th>trx_count</th>\n",
       "      <th>sales_total</th>\n",
       "    </tr>\n",
       "    <tr>\n",
       "      <th>prod_category</th>\n",
       "      <th></th>\n",
       "      <th></th>\n",
       "      <th></th>\n",
       "      <th></th>\n",
       "    </tr>\n",
       "  </thead>\n",
       "  <tbody>\n",
       "    <tr>\n",
       "      <th>Natural Foods</th>\n",
       "      <td>6756</td>\n",
       "      <td>334527</td>\n",
       "      <td>595391</td>\n",
       "      <td>3984398.00</td>\n",
       "    </tr>\n",
       "    <tr>\n",
       "      <th>Kitchen Prep</th>\n",
       "      <td>4728</td>\n",
       "      <td>42966</td>\n",
       "      <td>45082</td>\n",
       "      <td>501085.70</td>\n",
       "    </tr>\n",
       "    <tr>\n",
       "      <th>Reading</th>\n",
       "      <td>3265</td>\n",
       "      <td>14416</td>\n",
       "      <td>17031</td>\n",
       "      <td>122929.24</td>\n",
       "    </tr>\n",
       "    <tr>\n",
       "      <th>Colour Cosmetics - Mass</th>\n",
       "      <td>3218</td>\n",
       "      <td>7313</td>\n",
       "      <td>7574</td>\n",
       "      <td>67935.16</td>\n",
       "    </tr>\n",
       "    <tr>\n",
       "      <th>Snacks</th>\n",
       "      <td>3137</td>\n",
       "      <td>424019</td>\n",
       "      <td>640044</td>\n",
       "      <td>2412444.14</td>\n",
       "    </tr>\n",
       "    <tr>\n",
       "      <th>...</th>\n",
       "      <td>...</td>\n",
       "      <td>...</td>\n",
       "      <td>...</td>\n",
       "      <td>...</td>\n",
       "    </tr>\n",
       "    <tr>\n",
       "      <th>Restaurant Disposable</th>\n",
       "      <td>5</td>\n",
       "      <td>7</td>\n",
       "      <td>7</td>\n",
       "      <td>33.12</td>\n",
       "    </tr>\n",
       "    <tr>\n",
       "      <th>Portraits</th>\n",
       "      <td>4</td>\n",
       "      <td>4</td>\n",
       "      <td>4</td>\n",
       "      <td>36.33</td>\n",
       "    </tr>\n",
       "    <tr>\n",
       "      <th>Supplies</th>\n",
       "      <td>1</td>\n",
       "      <td>1</td>\n",
       "      <td>1</td>\n",
       "      <td>6.99</td>\n",
       "    </tr>\n",
       "    <tr>\n",
       "      <th>Spirits</th>\n",
       "      <td>1</td>\n",
       "      <td>14</td>\n",
       "      <td>14</td>\n",
       "      <td>154.82</td>\n",
       "    </tr>\n",
       "    <tr>\n",
       "      <th>Cosmetic Treatments</th>\n",
       "      <td>1</td>\n",
       "      <td>1</td>\n",
       "      <td>1</td>\n",
       "      <td>89.97</td>\n",
       "    </tr>\n",
       "  </tbody>\n",
       "</table>\n",
       "<p>85 rows × 4 columns</p>\n",
       "</div>"
      ],
      "text/plain": [
       "                         prod_id  cust_count  trx_count  sales_total\n",
       "prod_category                                                       \n",
       "Natural Foods               6756      334527     595391   3984398.00\n",
       "Kitchen Prep                4728       42966      45082    501085.70\n",
       "Reading                     3265       14416      17031    122929.24\n",
       "Colour Cosmetics - Mass     3218        7313       7574     67935.16\n",
       "Snacks                      3137      424019     640044   2412444.14\n",
       "...                          ...         ...        ...          ...\n",
       "Restaurant Disposable          5           7          7        33.12\n",
       "Portraits                      4           4          4        36.33\n",
       "Supplies                       1           1          1         6.99\n",
       "Spirits                        1          14         14       154.82\n",
       "Cosmetic Treatments            1           1          1        89.97\n",
       "\n",
       "[85 rows x 4 columns]"
      ]
     },
     "execution_count": 317,
     "metadata": {},
     "output_type": "execute_result"
    }
   ],
   "source": [
    "prod_cat_df['cust_count'] = merged.groupby('prod_category').cust_id.\\\n",
    "apply(lambda x: len(list(np.unique(x)))).sort_values(ascending = False)\n",
    "\n",
    "prod_cat_df['trx_count'] = merged.groupby('prod_category').trans_id.\\\n",
    "count().sort_values(ascending=False)\n",
    "\n",
    "prod_cat_df['sales_total'] = merged.groupby('prod_category').sales_amt.\\\n",
    "agg('sum').sort_values(ascending= False)\n",
    "\n",
    "prod_cat_df"
   ]
  },
  {
   "cell_type": "code",
   "execution_count": 318,
   "id": "5fa4d525",
   "metadata": {},
   "outputs": [
    {
     "data": {
      "text/html": [
       "<div>\n",
       "<style scoped>\n",
       "    .dataframe tbody tr th:only-of-type {\n",
       "        vertical-align: middle;\n",
       "    }\n",
       "\n",
       "    .dataframe tbody tr th {\n",
       "        vertical-align: top;\n",
       "    }\n",
       "\n",
       "    .dataframe thead th {\n",
       "        text-align: right;\n",
       "    }\n",
       "</style>\n",
       "<table border=\"1\" class=\"dataframe\">\n",
       "  <thead>\n",
       "    <tr style=\"text-align: right;\">\n",
       "      <th></th>\n",
       "      <th>prod_id</th>\n",
       "      <th>cust_count</th>\n",
       "      <th>trx_count</th>\n",
       "      <th>sales_total</th>\n",
       "    </tr>\n",
       "    <tr>\n",
       "      <th>prod_category</th>\n",
       "      <th></th>\n",
       "      <th></th>\n",
       "      <th></th>\n",
       "      <th></th>\n",
       "    </tr>\n",
       "  </thead>\n",
       "  <tbody>\n",
       "    <tr>\n",
       "      <th>Vegetables</th>\n",
       "      <td>1147</td>\n",
       "      <td>746944</td>\n",
       "      <td>1543276</td>\n",
       "      <td>5732445.09</td>\n",
       "    </tr>\n",
       "    <tr>\n",
       "      <th>Fruit</th>\n",
       "      <td>551</td>\n",
       "      <td>585762</td>\n",
       "      <td>1050135</td>\n",
       "      <td>4394924.19</td>\n",
       "    </tr>\n",
       "    <tr>\n",
       "      <th>Snacks</th>\n",
       "      <td>3137</td>\n",
       "      <td>424019</td>\n",
       "      <td>640044</td>\n",
       "      <td>2412444.14</td>\n",
       "    </tr>\n",
       "    <tr>\n",
       "      <th>Household</th>\n",
       "      <td>1132</td>\n",
       "      <td>352048</td>\n",
       "      <td>450080</td>\n",
       "      <td>242890.01</td>\n",
       "    </tr>\n",
       "    <tr>\n",
       "      <th>Natural Foods</th>\n",
       "      <td>6756</td>\n",
       "      <td>334527</td>\n",
       "      <td>595391</td>\n",
       "      <td>3984398.00</td>\n",
       "    </tr>\n",
       "    <tr>\n",
       "      <th>...</th>\n",
       "      <td>...</td>\n",
       "      <td>...</td>\n",
       "      <td>...</td>\n",
       "      <td>...</td>\n",
       "    </tr>\n",
       "    <tr>\n",
       "      <th>Spirits</th>\n",
       "      <td>1</td>\n",
       "      <td>14</td>\n",
       "      <td>14</td>\n",
       "      <td>154.82</td>\n",
       "    </tr>\n",
       "    <tr>\n",
       "      <th>Restaurant Disposable</th>\n",
       "      <td>5</td>\n",
       "      <td>7</td>\n",
       "      <td>7</td>\n",
       "      <td>33.12</td>\n",
       "    </tr>\n",
       "    <tr>\n",
       "      <th>Portraits</th>\n",
       "      <td>4</td>\n",
       "      <td>4</td>\n",
       "      <td>4</td>\n",
       "      <td>36.33</td>\n",
       "    </tr>\n",
       "    <tr>\n",
       "      <th>Supplies</th>\n",
       "      <td>1</td>\n",
       "      <td>1</td>\n",
       "      <td>1</td>\n",
       "      <td>6.99</td>\n",
       "    </tr>\n",
       "    <tr>\n",
       "      <th>Cosmetic Treatments</th>\n",
       "      <td>1</td>\n",
       "      <td>1</td>\n",
       "      <td>1</td>\n",
       "      <td>89.97</td>\n",
       "    </tr>\n",
       "  </tbody>\n",
       "</table>\n",
       "<p>85 rows × 4 columns</p>\n",
       "</div>"
      ],
      "text/plain": [
       "                       prod_id  cust_count  trx_count  sales_total\n",
       "prod_category                                                     \n",
       "Vegetables                1147      746944    1543276   5732445.09\n",
       "Fruit                      551      585762    1050135   4394924.19\n",
       "Snacks                    3137      424019     640044   2412444.14\n",
       "Household                 1132      352048     450080    242890.01\n",
       "Natural Foods             6756      334527     595391   3984398.00\n",
       "...                        ...         ...        ...          ...\n",
       "Spirits                      1          14         14       154.82\n",
       "Restaurant Disposable        5           7          7        33.12\n",
       "Portraits                    4           4          4        36.33\n",
       "Supplies                     1           1          1         6.99\n",
       "Cosmetic Treatments          1           1          1        89.97\n",
       "\n",
       "[85 rows x 4 columns]"
      ]
     },
     "execution_count": 318,
     "metadata": {},
     "output_type": "execute_result"
    }
   ],
   "source": [
    "prod_cat_df.sort_values('cust_count', ascending = False)"
   ]
  },
  {
   "cell_type": "code",
   "execution_count": 353,
   "id": "97f8cb28",
   "metadata": {},
   "outputs": [
    {
     "data": {
      "image/png": "[encoded data removed]",
      "text/plain": [
       "<Figure size 1296x360 with 1 Axes>"
      ]
     },
     "metadata": {
      "needs_background": "light"
     },
     "output_type": "display_data"
    }
   ],
   "source": [
    "# cumulative sum of sales to find the contribution of categories to sales\n",
    "\n",
    "prod_cat_df = prod_cat_df.sort_values('cust_count', ascending = False)\n",
    "prod_cat_df['cust_contr'] = prod_cat_df['cust_count'].cumsum()\\\n",
    "/ prod_cat_df['cust_count'].sum()\n",
    "\n",
    "plt.figure(figsize = (18,5))\n",
    "plt.plot(prod_cat_df['cust_contr'], label = 'cust_contr')\n",
    "plt.axhline(y = 0.8, color = 'r', linestyle = ':', label = '80% of total volume')\n",
    "plt.legend()\n",
    "plt.xticks(rotation = 'vertical')\n",
    "plt.tick_params(axis = 'x', colors = 'blue')\n",
    "plt.title('Pareto Principle in product category contribution to customers')\n",
    "plt.show()\n"
   ]
  },
  {
   "cell_type": "code",
   "execution_count": 354,
   "id": "c86c4202",
   "metadata": {},
   "outputs": [
    {
     "data": {
      "image/png": "[encoded data removed]",
      "text/plain": [
       "<Figure size 1296x360 with 1 Axes>"
      ]
     },
     "metadata": {
      "needs_background": "light"
     },
     "output_type": "display_data"
    }
   ],
   "source": [
    "prod_cat_df = prod_cat_df.sort_values('trx_count', ascending = False)\n",
    "prod_cat_df['trx_contr'] = prod_cat_df['trx_count'].cumsum()\\\n",
    "/ prod_cat_df['trx_count'].sum()\n",
    "\n",
    "plt.figure(figsize = (18,5))\n",
    "plt.plot(prod_cat_df['trx_contr'], label = 'trx_contr')\n",
    "plt.axhline(y = 0.8, color = 'r', linestyle = ':', label = '80% of total volume')\n",
    "plt.legend()\n",
    "plt.xticks(rotation = 'vertical')\n",
    "plt.tick_params(axis = 'x', colors = 'blue')\n",
    "plt.title('Pareto Principle in product category contribution to number of transactions')\n",
    "plt.show()"
   ]
  },
  {
   "cell_type": "code",
   "execution_count": 355,
   "id": "c687da70",
   "metadata": {},
   "outputs": [
    {
     "data": {
      "image/png": "[encoded data removed]",
      "text/plain": [
       "<Figure size 1296x360 with 1 Axes>"
      ]
     },
     "metadata": {
      "needs_background": "light"
     },
     "output_type": "display_data"
    }
   ],
   "source": [
    "prod_cat_df = prod_cat_df.sort_values('sales_total', ascending = False)\n",
    "prod_cat_df['sales_contr'] = prod_cat_df['sales_total'].cumsum()\\\n",
    "/ prod_cat_df['sales_total'].sum()\n",
    "\n",
    "plt.figure(figsize = (18,5))\n",
    "plt.plot(prod_cat_df['sales_contr'], label = 'sales_contr')\n",
    "plt.axhline(y = 0.8, color = 'r', linestyle = ':', label = '80% of total volume')\n",
    "plt.legend()\n",
    "plt.xticks(rotation = 'vertical')\n",
    "plt.tick_params(axis = 'x', colors = 'blue')\n",
    "plt.title('Pareto Principle in product category contribution to total sales')\n",
    "plt.show()"
   ]
  },
  {
   "cell_type": "code",
   "execution_count": 322,
   "id": "3d5545cc",
   "metadata": {},
   "outputs": [
    {
     "data": {
      "text/html": [
       "<div>\n",
       "<style scoped>\n",
       "    .dataframe tbody tr th:only-of-type {\n",
       "        vertical-align: middle;\n",
       "    }\n",
       "\n",
       "    .dataframe tbody tr th {\n",
       "        vertical-align: top;\n",
       "    }\n",
       "\n",
       "    .dataframe thead th {\n",
       "        text-align: right;\n",
       "    }\n",
       "</style>\n",
       "<table border=\"1\" class=\"dataframe\">\n",
       "  <thead>\n",
       "    <tr style=\"text-align: right;\">\n",
       "      <th></th>\n",
       "      <th>prod_id</th>\n",
       "      <th>cust_per_pid</th>\n",
       "      <th>trx_per_pid</th>\n",
       "      <th>sales_per_pid</th>\n",
       "    </tr>\n",
       "    <tr>\n",
       "      <th>prod_category</th>\n",
       "      <th></th>\n",
       "      <th></th>\n",
       "      <th></th>\n",
       "      <th></th>\n",
       "    </tr>\n",
       "  </thead>\n",
       "  <tbody>\n",
       "    <tr>\n",
       "      <th>Natural Foods</th>\n",
       "      <td>6756</td>\n",
       "      <td>49.515542</td>\n",
       "      <td>88.127738</td>\n",
       "      <td>589.756957</td>\n",
       "    </tr>\n",
       "    <tr>\n",
       "      <th>Kitchen Prep</th>\n",
       "      <td>4728</td>\n",
       "      <td>9.087563</td>\n",
       "      <td>9.535110</td>\n",
       "      <td>105.982593</td>\n",
       "    </tr>\n",
       "    <tr>\n",
       "      <th>Reading</th>\n",
       "      <td>3265</td>\n",
       "      <td>4.415314</td>\n",
       "      <td>5.216233</td>\n",
       "      <td>37.650609</td>\n",
       "    </tr>\n",
       "    <tr>\n",
       "      <th>Colour Cosmetics - Mass</th>\n",
       "      <td>3218</td>\n",
       "      <td>2.272530</td>\n",
       "      <td>2.353636</td>\n",
       "      <td>21.110988</td>\n",
       "    </tr>\n",
       "    <tr>\n",
       "      <th>Snacks</th>\n",
       "      <td>3137</td>\n",
       "      <td>135.167039</td>\n",
       "      <td>204.030602</td>\n",
       "      <td>769.029053</td>\n",
       "    </tr>\n",
       "    <tr>\n",
       "      <th>...</th>\n",
       "      <td>...</td>\n",
       "      <td>...</td>\n",
       "      <td>...</td>\n",
       "      <td>...</td>\n",
       "    </tr>\n",
       "    <tr>\n",
       "      <th>Restaurant Disposable</th>\n",
       "      <td>5</td>\n",
       "      <td>1.400000</td>\n",
       "      <td>1.400000</td>\n",
       "      <td>6.624000</td>\n",
       "    </tr>\n",
       "    <tr>\n",
       "      <th>Portraits</th>\n",
       "      <td>4</td>\n",
       "      <td>1.000000</td>\n",
       "      <td>1.000000</td>\n",
       "      <td>9.082500</td>\n",
       "    </tr>\n",
       "    <tr>\n",
       "      <th>Supplies</th>\n",
       "      <td>1</td>\n",
       "      <td>1.000000</td>\n",
       "      <td>1.000000</td>\n",
       "      <td>6.990000</td>\n",
       "    </tr>\n",
       "    <tr>\n",
       "      <th>Spirits</th>\n",
       "      <td>1</td>\n",
       "      <td>14.000000</td>\n",
       "      <td>14.000000</td>\n",
       "      <td>154.820000</td>\n",
       "    </tr>\n",
       "    <tr>\n",
       "      <th>Cosmetic Treatments</th>\n",
       "      <td>1</td>\n",
       "      <td>1.000000</td>\n",
       "      <td>1.000000</td>\n",
       "      <td>89.970000</td>\n",
       "    </tr>\n",
       "  </tbody>\n",
       "</table>\n",
       "<p>85 rows × 4 columns</p>\n",
       "</div>"
      ],
      "text/plain": [
       "                         prod_id  cust_per_pid  trx_per_pid  sales_per_pid\n",
       "prod_category                                                             \n",
       "Natural Foods               6756     49.515542    88.127738     589.756957\n",
       "Kitchen Prep                4728      9.087563     9.535110     105.982593\n",
       "Reading                     3265      4.415314     5.216233      37.650609\n",
       "Colour Cosmetics - Mass     3218      2.272530     2.353636      21.110988\n",
       "Snacks                      3137    135.167039   204.030602     769.029053\n",
       "...                          ...           ...          ...            ...\n",
       "Restaurant Disposable          5      1.400000     1.400000       6.624000\n",
       "Portraits                      4      1.000000     1.000000       9.082500\n",
       "Supplies                       1      1.000000     1.000000       6.990000\n",
       "Spirits                        1     14.000000    14.000000     154.820000\n",
       "Cosmetic Treatments            1      1.000000     1.000000      89.970000\n",
       "\n",
       "[85 rows x 4 columns]"
      ]
     },
     "execution_count": 322,
     "metadata": {},
     "output_type": "execute_result"
    }
   ],
   "source": [
    "# since the prod categories have multiple values, \n",
    "# we could normalize the numbers with the number of product items in each category\n",
    "norm_prod_cat_df = prod_cat_df[['prod_id']].copy()\n",
    "\n",
    "norm_prod_cat_df['cust_per_pid'] = prod_cat_df['cust_count']/prod_cat_df['prod_id'].\\\n",
    "sort_values(ascending = True)\n",
    "\n",
    "norm_prod_cat_df['trx_per_pid'] = prod_cat_df['trx_count']/prod_cat_df['prod_id'].\\\n",
    "sort_values(ascending = True)\n",
    "\n",
    "norm_prod_cat_df['sales_per_pid'] = prod_cat_df['sales_total']/prod_cat_df['prod_id'].\\\n",
    "sort_values(ascending = True)\n",
    "\n",
    "norm_prod_cat_df"
   ]
  },
  {
   "cell_type": "code",
   "execution_count": 323,
   "id": "60f1170c",
   "metadata": {},
   "outputs": [
    {
     "data": {
      "image/png": "[encoded data removed]",
      "text/plain": [
       "<Figure size 1296x360 with 1 Axes>"
      ]
     },
     "metadata": {
      "needs_background": "light"
     },
     "output_type": "display_data"
    }
   ],
   "source": [
    "plt.figure(figsize = (18,5))\n",
    "norm_prod_cat_df=norm_prod_cat_df.sort_values('cust_per_pid', ascending = False)\n",
    "plt.plot(norm_prod_cat_df['cust_per_pid'], label = 'cust_per_product')\n",
    "plt.legend()\n",
    "plt.xticks(rotation = 'vertical')\n",
    "plt.tick_params(axis = 'x', colors = 'blue')\n",
    "plt.title('Top Product Items based on customer')\n",
    "plt.show()"
   ]
  },
  {
   "cell_type": "code",
   "execution_count": 324,
   "id": "16f27852",
   "metadata": {},
   "outputs": [
    {
     "data": {
      "image/png": "[encoded data removed]",
      "text/plain": [
       "<Figure size 1296x360 with 1 Axes>"
      ]
     },
     "metadata": {
      "needs_background": "light"
     },
     "output_type": "display_data"
    }
   ],
   "source": [
    "plt.figure(figsize = (18,5))\n",
    "norm_prod_cat_df=norm_prod_cat_df.sort_values('trx_per_pid', ascending = False)\n",
    "plt.plot(norm_prod_cat_df['trx_per_pid'], label = 'trx_per_product')\n",
    "plt.legend()\n",
    "plt.xticks(rotation = 'vertical')\n",
    "plt.tick_params(axis = 'x', colors = 'blue')\n",
    "plt.title('Most often sold products based on transaction numbers')\n",
    "plt.show()"
   ]
  },
  {
   "cell_type": "code",
   "execution_count": 325,
   "id": "7f5e9dd8",
   "metadata": {},
   "outputs": [
    {
     "data": {
      "image/png": "[encoded data removed]",
      "text/plain": [
       "<Figure size 1296x360 with 1 Axes>"
      ]
     },
     "metadata": {
      "needs_background": "light"
     },
     "output_type": "display_data"
    }
   ],
   "source": [
    "plt.figure(figsize = (18,5))\n",
    "norm_prod_cat_df=norm_prod_cat_df.sort_values('sales_per_pid', ascending = False)\n",
    "plt.plot(norm_prod_cat_df['sales_per_pid'], label = 'sales_per_product')\n",
    "plt.legend()\n",
    "plt.xticks(rotation = 'vertical')\n",
    "plt.tick_params(axis = 'x', colors = 'blue')\n",
    "plt.title('Most revenue earned per product item')\n",
    "plt.show()"
   ]
  },
  {
   "cell_type": "code",
   "execution_count": 326,
   "id": "92bf12b4",
   "metadata": {},
   "outputs": [
    {
     "data": {
      "text/html": [
       "<div>\n",
       "<style scoped>\n",
       "    .dataframe tbody tr th:only-of-type {\n",
       "        vertical-align: middle;\n",
       "    }\n",
       "\n",
       "    .dataframe tbody tr th {\n",
       "        vertical-align: top;\n",
       "    }\n",
       "\n",
       "    .dataframe thead th {\n",
       "        text-align: right;\n",
       "    }\n",
       "</style>\n",
       "<table border=\"1\" class=\"dataframe\">\n",
       "  <thead>\n",
       "    <tr style=\"text-align: right;\">\n",
       "      <th></th>\n",
       "      <th>trans_id</th>\n",
       "      <th>cust_count</th>\n",
       "      <th>sales_total</th>\n",
       "    </tr>\n",
       "    <tr>\n",
       "      <th>prod_id</th>\n",
       "      <th></th>\n",
       "      <th></th>\n",
       "      <th></th>\n",
       "    </tr>\n",
       "  </thead>\n",
       "  <tbody>\n",
       "    <tr>\n",
       "      <th>20189092</th>\n",
       "      <td>414875</td>\n",
       "      <td>327090</td>\n",
       "      <td>39602.10</td>\n",
       "    </tr>\n",
       "    <tr>\n",
       "      <th>20175355001</th>\n",
       "      <td>188493</td>\n",
       "      <td>155564</td>\n",
       "      <td>274230.00</td>\n",
       "    </tr>\n",
       "    <tr>\n",
       "      <th>20070132001</th>\n",
       "      <td>58794</td>\n",
       "      <td>53763</td>\n",
       "      <td>134275.16</td>\n",
       "    </tr>\n",
       "    <tr>\n",
       "      <th>20812144001</th>\n",
       "      <td>47993</td>\n",
       "      <td>43655</td>\n",
       "      <td>139313.06</td>\n",
       "    </tr>\n",
       "    <tr>\n",
       "      <th>21097012001</th>\n",
       "      <td>42393</td>\n",
       "      <td>38726</td>\n",
       "      <td>170288.68</td>\n",
       "    </tr>\n",
       "  </tbody>\n",
       "</table>\n",
       "</div>"
      ],
      "text/plain": [
       "             trans_id  cust_count  sales_total\n",
       "prod_id                                       \n",
       "20189092       414875      327090     39602.10\n",
       "20175355001    188493      155564    274230.00\n",
       "20070132001     58794       53763    134275.16\n",
       "20812144001     47993       43655    139313.06\n",
       "21097012001     42393       38726    170288.68"
      ]
     },
     "execution_count": 326,
     "metadata": {},
     "output_type": "execute_result"
    }
   ],
   "source": [
    "prod_id_df = merged.groupby('prod_id').trans_id.\\\n",
    "count().sort_values(ascending=False).\\\n",
    "to_frame()\n",
    "\n",
    "prod_id_df['cust_count'] = merged.groupby('prod_id').cust_id.\\\n",
    "apply(lambda x: len(list(np.unique(x)))).sort_values(ascending = False)\n",
    "\n",
    "prod_id_df['sales_total'] = merged.groupby('prod_id').sales_amt.\\\n",
    "agg('sum').sort_values(ascending= False)\n",
    "\n",
    "prod_id_df.head()"
   ]
  },
  {
   "cell_type": "code",
   "execution_count": 327,
   "id": "d5950c7f",
   "metadata": {},
   "outputs": [],
   "source": [
    "prod_id_df.index=prod_id_df.index.astype(str)"
   ]
  },
  {
   "cell_type": "code",
   "execution_count": 337,
   "id": "6ea0024f",
   "metadata": {},
   "outputs": [
    {
     "data": {
      "text/html": [
       "<div>\n",
       "<style scoped>\n",
       "    .dataframe tbody tr th:only-of-type {\n",
       "        vertical-align: middle;\n",
       "    }\n",
       "\n",
       "    .dataframe tbody tr th {\n",
       "        vertical-align: top;\n",
       "    }\n",
       "\n",
       "    .dataframe thead th {\n",
       "        text-align: right;\n",
       "    }\n",
       "</style>\n",
       "<table border=\"1\" class=\"dataframe\">\n",
       "  <thead>\n",
       "    <tr style=\"text-align: right;\">\n",
       "      <th></th>\n",
       "      <th>trans_id</th>\n",
       "      <th>trans_dt</th>\n",
       "      <th>store_id</th>\n",
       "      <th>cust_id</th>\n",
       "      <th>prod_id</th>\n",
       "      <th>sales_amt</th>\n",
       "      <th>sales_qty</th>\n",
       "      <th>sales_wgt</th>\n",
       "      <th>prod_desc</th>\n",
       "      <th>prod_section</th>\n",
       "      <th>...</th>\n",
       "      <th>unit_price</th>\n",
       "      <th>max_price</th>\n",
       "      <th>discount_rate</th>\n",
       "      <th>frequency</th>\n",
       "      <th>recency</th>\n",
       "      <th>monetary</th>\n",
       "      <th>avg_discount</th>\n",
       "      <th>day</th>\n",
       "      <th>month</th>\n",
       "      <th>year</th>\n",
       "    </tr>\n",
       "  </thead>\n",
       "  <tbody>\n",
       "    <tr>\n",
       "      <th>0</th>\n",
       "      <td>170625010050404567</td>\n",
       "      <td>2017-06-25</td>\n",
       "      <td>1005</td>\n",
       "      <td>1008061498</td>\n",
       "      <td>21031312</td>\n",
       "      <td>2.49</td>\n",
       "      <td>1</td>\n",
       "      <td>0.0</td>\n",
       "      <td>QP TORTILLA CHIPS RED CORN</td>\n",
       "      <td>Natural Foods</td>\n",
       "      <td>...</td>\n",
       "      <td>2.49</td>\n",
       "      <td>4.99</td>\n",
       "      <td>50.1</td>\n",
       "      <td>10</td>\n",
       "      <td>98.200000</td>\n",
       "      <td>2.490</td>\n",
       "      <td>44.439231</td>\n",
       "      <td>25</td>\n",
       "      <td>6</td>\n",
       "      <td>2017</td>\n",
       "    </tr>\n",
       "    <tr>\n",
       "      <th>1</th>\n",
       "      <td>170624010190805778</td>\n",
       "      <td>2017-06-24</td>\n",
       "      <td>1019</td>\n",
       "      <td>1100611737</td>\n",
       "      <td>21031312</td>\n",
       "      <td>2.49</td>\n",
       "      <td>1</td>\n",
       "      <td>0.0</td>\n",
       "      <td>QP TORTILLA CHIPS RED CORN</td>\n",
       "      <td>Natural Foods</td>\n",
       "      <td>...</td>\n",
       "      <td>2.49</td>\n",
       "      <td>4.99</td>\n",
       "      <td>50.1</td>\n",
       "      <td>1</td>\n",
       "      <td>982.000000</td>\n",
       "      <td>2.490</td>\n",
       "      <td>50.100000</td>\n",
       "      <td>24</td>\n",
       "      <td>6</td>\n",
       "      <td>2017</td>\n",
       "    </tr>\n",
       "    <tr>\n",
       "      <th>2</th>\n",
       "      <td>170624010010806725</td>\n",
       "      <td>2017-06-24</td>\n",
       "      <td>1001</td>\n",
       "      <td>1016601259</td>\n",
       "      <td>21031312</td>\n",
       "      <td>2.49</td>\n",
       "      <td>1</td>\n",
       "      <td>0.0</td>\n",
       "      <td>QP TORTILLA CHIPS RED CORN</td>\n",
       "      <td>Natural Foods</td>\n",
       "      <td>...</td>\n",
       "      <td>2.49</td>\n",
       "      <td>4.99</td>\n",
       "      <td>50.1</td>\n",
       "      <td>2</td>\n",
       "      <td>491.000000</td>\n",
       "      <td>2.490</td>\n",
       "      <td>29.225000</td>\n",
       "      <td>24</td>\n",
       "      <td>6</td>\n",
       "      <td>2017</td>\n",
       "    </tr>\n",
       "    <tr>\n",
       "      <th>3</th>\n",
       "      <td>170624010270807847</td>\n",
       "      <td>2017-06-24</td>\n",
       "      <td>1027</td>\n",
       "      <td>1021650510</td>\n",
       "      <td>21031312</td>\n",
       "      <td>2.49</td>\n",
       "      <td>1</td>\n",
       "      <td>0.0</td>\n",
       "      <td>QP TORTILLA CHIPS RED CORN</td>\n",
       "      <td>Natural Foods</td>\n",
       "      <td>...</td>\n",
       "      <td>2.49</td>\n",
       "      <td>4.99</td>\n",
       "      <td>50.1</td>\n",
       "      <td>2</td>\n",
       "      <td>491.000000</td>\n",
       "      <td>1.995</td>\n",
       "      <td>56.963333</td>\n",
       "      <td>24</td>\n",
       "      <td>6</td>\n",
       "      <td>2017</td>\n",
       "    </tr>\n",
       "    <tr>\n",
       "      <th>4</th>\n",
       "      <td>170625010040707767</td>\n",
       "      <td>2017-06-25</td>\n",
       "      <td>1004</td>\n",
       "      <td>1128987709</td>\n",
       "      <td>21031312</td>\n",
       "      <td>2.49</td>\n",
       "      <td>1</td>\n",
       "      <td>0.0</td>\n",
       "      <td>QP TORTILLA CHIPS RED CORN</td>\n",
       "      <td>Natural Foods</td>\n",
       "      <td>...</td>\n",
       "      <td>2.49</td>\n",
       "      <td>4.99</td>\n",
       "      <td>50.1</td>\n",
       "      <td>18</td>\n",
       "      <td>54.555556</td>\n",
       "      <td>3.740</td>\n",
       "      <td>30.850500</td>\n",
       "      <td>25</td>\n",
       "      <td>6</td>\n",
       "      <td>2017</td>\n",
       "    </tr>\n",
       "  </tbody>\n",
       "</table>\n",
       "<p>5 rows × 27 columns</p>\n",
       "</div>"
      ],
      "text/plain": [
       "             trans_id   trans_dt  store_id     cust_id   prod_id  sales_amt  \\\n",
       "0  170625010050404567 2017-06-25      1005  1008061498  21031312       2.49   \n",
       "1  170624010190805778 2017-06-24      1019  1100611737  21031312       2.49   \n",
       "2  170624010010806725 2017-06-24      1001  1016601259  21031312       2.49   \n",
       "3  170624010270807847 2017-06-24      1027  1021650510  21031312       2.49   \n",
       "4  170625010040707767 2017-06-25      1004  1128987709  21031312       2.49   \n",
       "\n",
       "   sales_qty  sales_wgt                   prod_desc   prod_section  ...  \\\n",
       "0          1        0.0  QP TORTILLA CHIPS RED CORN  Natural Foods  ...   \n",
       "1          1        0.0  QP TORTILLA CHIPS RED CORN  Natural Foods  ...   \n",
       "2          1        0.0  QP TORTILLA CHIPS RED CORN  Natural Foods  ...   \n",
       "3          1        0.0  QP TORTILLA CHIPS RED CORN  Natural Foods  ...   \n",
       "4          1        0.0  QP TORTILLA CHIPS RED CORN  Natural Foods  ...   \n",
       "\n",
       "  unit_price max_price discount_rate frequency     recency monetary  \\\n",
       "0       2.49      4.99          50.1        10   98.200000    2.490   \n",
       "1       2.49      4.99          50.1         1  982.000000    2.490   \n",
       "2       2.49      4.99          50.1         2  491.000000    2.490   \n",
       "3       2.49      4.99          50.1         2  491.000000    1.995   \n",
       "4       2.49      4.99          50.1        18   54.555556    3.740   \n",
       "\n",
       "   avg_discount  day  month  year  \n",
       "0     44.439231   25      6  2017  \n",
       "1     50.100000   24      6  2017  \n",
       "2     29.225000   24      6  2017  \n",
       "3     56.963333   24      6  2017  \n",
       "4     30.850500   25      6  2017  \n",
       "\n",
       "[5 rows x 27 columns]"
      ]
     },
     "execution_count": 337,
     "metadata": {},
     "output_type": "execute_result"
    }
   ],
   "source": [
    "merged = merged.dropna()\n",
    "merged.head()"
   ]
  },
  {
   "cell_type": "code",
   "execution_count": 338,
   "id": "fe5811ef",
   "metadata": {
    "collapsed": true
   },
   "outputs": [
    {
     "name": "stderr",
     "output_type": "stream",
     "text": [
      "C:\\Users\\sendt\\AppData\\Local\\Temp/ipykernel_10848/2435446264.py:1: SettingWithCopyWarning: \n",
      "A value is trying to be set on a copy of a slice from a DataFrame.\n",
      "Try using .loc[row_indexer,col_indexer] = value instead\n",
      "\n",
      "See the caveats in the documentation: https://pandas.pydata.org/pandas-docs/stable/user_guide/indexing.html#returning-a-view-versus-a-copy\n",
      "  merged['trans_dt'] = pd.to_datetime(merged['trans_dt'])\n",
      "C:\\Users\\sendt\\AppData\\Local\\Temp/ipykernel_10848/2435446264.py:2: SettingWithCopyWarning: \n",
      "A value is trying to be set on a copy of a slice from a DataFrame.\n",
      "Try using .loc[row_indexer,col_indexer] = value instead\n",
      "\n",
      "See the caveats in the documentation: https://pandas.pydata.org/pandas-docs/stable/user_guide/indexing.html#returning-a-view-versus-a-copy\n",
      "  merged['day']= (merged['trans_dt']).dt.day\n",
      "C:\\Users\\sendt\\AppData\\Local\\Temp/ipykernel_10848/2435446264.py:3: SettingWithCopyWarning: \n",
      "A value is trying to be set on a copy of a slice from a DataFrame.\n",
      "Try using .loc[row_indexer,col_indexer] = value instead\n",
      "\n",
      "See the caveats in the documentation: https://pandas.pydata.org/pandas-docs/stable/user_guide/indexing.html#returning-a-view-versus-a-copy\n",
      "  merged['month']= (merged['trans_dt']).dt.month\n",
      "C:\\Users\\sendt\\AppData\\Local\\Temp/ipykernel_10848/2435446264.py:4: SettingWithCopyWarning: \n",
      "A value is trying to be set on a copy of a slice from a DataFrame.\n",
      "Try using .loc[row_indexer,col_indexer] = value instead\n",
      "\n",
      "See the caveats in the documentation: https://pandas.pydata.org/pandas-docs/stable/user_guide/indexing.html#returning-a-view-versus-a-copy\n",
      "  merged['year']= (merged['trans_dt']).dt.year\n"
     ]
    },
    {
     "data": {
      "text/plain": [
       "trans_id                        int64\n",
       "trans_dt               datetime64[ns]\n",
       "store_id                        int64\n",
       "cust_id                         int64\n",
       "prod_id                         int64\n",
       "sales_amt                     float64\n",
       "sales_qty                       int64\n",
       "sales_wgt                     float64\n",
       "prod_desc                      object\n",
       "prod_section                   object\n",
       "prod_category                  object\n",
       "prod_subcategory               object\n",
       "prod_type                      object\n",
       "prod_mfc_brand_cd              object\n",
       "prod_unit_qty_count           float64\n",
       "prod_count_uom                 object\n",
       "prod_uom_value                float64\n",
       "unit_price                    float64\n",
       "max_price                     float64\n",
       "discount_rate                 float64\n",
       "frequency                       int64\n",
       "recency                       float64\n",
       "monetary                      float64\n",
       "avg_discount                  float64\n",
       "day                             int64\n",
       "month                           int64\n",
       "year                            int64\n",
       "dtype: object"
      ]
     },
     "execution_count": 338,
     "metadata": {},
     "output_type": "execute_result"
    }
   ],
   "source": [
    "merged['trans_dt'] = pd.to_datetime(merged['trans_dt'])\n",
    "merged['day']= (merged['trans_dt']).dt.day\n",
    "merged['month']= (merged['trans_dt']).dt.month\n",
    "merged['year']= (merged['trans_dt']).dt.year\n",
    "merged.dtypes"
   ]
  },
  {
   "cell_type": "code",
   "execution_count": 339,
   "id": "d935560a",
   "metadata": {
    "scrolled": true
   },
   "outputs": [
    {
     "data": {
      "text/html": [
       "<div>\n",
       "<style scoped>\n",
       "    .dataframe tbody tr th:only-of-type {\n",
       "        vertical-align: middle;\n",
       "    }\n",
       "\n",
       "    .dataframe tbody tr th {\n",
       "        vertical-align: top;\n",
       "    }\n",
       "\n",
       "    .dataframe thead th {\n",
       "        text-align: right;\n",
       "    }\n",
       "</style>\n",
       "<table border=\"1\" class=\"dataframe\">\n",
       "  <thead>\n",
       "    <tr style=\"text-align: right;\">\n",
       "      <th></th>\n",
       "      <th>store_id</th>\n",
       "      <th>cust_id</th>\n",
       "      <th>prod_id</th>\n",
       "      <th>sales_amt</th>\n",
       "      <th>sales_qty</th>\n",
       "      <th>frequency</th>\n",
       "      <th>recency</th>\n",
       "      <th>monetary</th>\n",
       "      <th>avg_discount</th>\n",
       "      <th>day</th>\n",
       "      <th>month</th>\n",
       "      <th>year</th>\n",
       "    </tr>\n",
       "  </thead>\n",
       "  <tbody>\n",
       "    <tr>\n",
       "      <th>0</th>\n",
       "      <td>1005</td>\n",
       "      <td>1008061498</td>\n",
       "      <td>21031312</td>\n",
       "      <td>2.49</td>\n",
       "      <td>1</td>\n",
       "      <td>10</td>\n",
       "      <td>98.200000</td>\n",
       "      <td>2.490</td>\n",
       "      <td>44.439231</td>\n",
       "      <td>25</td>\n",
       "      <td>6</td>\n",
       "      <td>2017</td>\n",
       "    </tr>\n",
       "    <tr>\n",
       "      <th>1</th>\n",
       "      <td>1019</td>\n",
       "      <td>1100611737</td>\n",
       "      <td>21031312</td>\n",
       "      <td>2.49</td>\n",
       "      <td>1</td>\n",
       "      <td>1</td>\n",
       "      <td>982.000000</td>\n",
       "      <td>2.490</td>\n",
       "      <td>50.100000</td>\n",
       "      <td>24</td>\n",
       "      <td>6</td>\n",
       "      <td>2017</td>\n",
       "    </tr>\n",
       "    <tr>\n",
       "      <th>2</th>\n",
       "      <td>1001</td>\n",
       "      <td>1016601259</td>\n",
       "      <td>21031312</td>\n",
       "      <td>2.49</td>\n",
       "      <td>1</td>\n",
       "      <td>2</td>\n",
       "      <td>491.000000</td>\n",
       "      <td>2.490</td>\n",
       "      <td>29.225000</td>\n",
       "      <td>24</td>\n",
       "      <td>6</td>\n",
       "      <td>2017</td>\n",
       "    </tr>\n",
       "    <tr>\n",
       "      <th>3</th>\n",
       "      <td>1027</td>\n",
       "      <td>1021650510</td>\n",
       "      <td>21031312</td>\n",
       "      <td>2.49</td>\n",
       "      <td>1</td>\n",
       "      <td>2</td>\n",
       "      <td>491.000000</td>\n",
       "      <td>1.995</td>\n",
       "      <td>56.963333</td>\n",
       "      <td>24</td>\n",
       "      <td>6</td>\n",
       "      <td>2017</td>\n",
       "    </tr>\n",
       "    <tr>\n",
       "      <th>4</th>\n",
       "      <td>1004</td>\n",
       "      <td>1128987709</td>\n",
       "      <td>21031312</td>\n",
       "      <td>2.49</td>\n",
       "      <td>1</td>\n",
       "      <td>18</td>\n",
       "      <td>54.555556</td>\n",
       "      <td>3.740</td>\n",
       "      <td>30.850500</td>\n",
       "      <td>25</td>\n",
       "      <td>6</td>\n",
       "      <td>2017</td>\n",
       "    </tr>\n",
       "  </tbody>\n",
       "</table>\n",
       "</div>"
      ],
      "text/plain": [
       "   store_id     cust_id   prod_id  sales_amt  sales_qty  frequency  \\\n",
       "0      1005  1008061498  21031312       2.49          1         10   \n",
       "1      1019  1100611737  21031312       2.49          1          1   \n",
       "2      1001  1016601259  21031312       2.49          1          2   \n",
       "3      1027  1021650510  21031312       2.49          1          2   \n",
       "4      1004  1128987709  21031312       2.49          1         18   \n",
       "\n",
       "      recency  monetary  avg_discount  day  month  year  \n",
       "0   98.200000     2.490     44.439231   25      6  2017  \n",
       "1  982.000000     2.490     50.100000   24      6  2017  \n",
       "2  491.000000     2.490     29.225000   24      6  2017  \n",
       "3  491.000000     1.995     56.963333   24      6  2017  \n",
       "4   54.555556     3.740     30.850500   25      6  2017  "
      ]
     },
     "execution_count": 339,
     "metadata": {},
     "output_type": "execute_result"
    }
   ],
   "source": [
    "X = merged.loc[:,['store_id','cust_id','prod_id','sales_amt','sales_qty',\\\n",
    "'frequency','recency','monetary','avg_discount','day','month','year']]\n",
    "X.head()"
   ]
  },
  {
   "cell_type": "code",
   "execution_count": 340,
   "id": "1dd91ec4",
   "metadata": {},
   "outputs": [],
   "source": [
    "#build kmeans model\n",
    "from sklearn.cluster import KMeans\n",
    "from sklearn.metrics import silhouette_score\n",
    "from sklearn.preprocessing import StandardScaler\n",
    "\n",
    "scaler = StandardScaler().fit(X.values)\n",
    "features = scaler.transform(X.values)"
   ]
  },
  {
   "cell_type": "code",
   "execution_count": 341,
   "id": "3e8a356b",
   "metadata": {},
   "outputs": [
    {
     "data": {
      "text/plain": [
       "Text(0, 0.5, 'Inertia')"
      ]
     },
     "execution_count": 341,
     "metadata": {},
     "output_type": "execute_result"
    },
    {
     "data": {
      "image/png": "[encoded data removed]",
      "text/plain": [
       "<Figure size 864x432 with 1 Axes>"
      ]
     },
     "metadata": {
      "needs_background": "light"
     },
     "output_type": "display_data"
    }
   ],
   "source": [
    "SSE = []\n",
    "\n",
    "for cluster in range(1,6):\n",
    "    kmeans = KMeans(n_clusters = cluster, init='k-means++')\n",
    "    kmeans.fit(X)\n",
    "    SSE.append(kmeans.inertia_)\n",
    "\n",
    "# converting the results into a dataframe and plotting them\n",
    "\n",
    "frame = pd.DataFrame({'Cluster':range(1,6), 'SSE':SSE})\n",
    "plt.figure(figsize=(12,6))\n",
    "plt.plot(frame['Cluster'], frame['SSE'], marker='o')\n",
    "plt.xlabel('Number of clusters')\n",
    "plt.ylabel('Inertia')"
   ]
  },
  {
   "cell_type": "code",
   "execution_count": 342,
   "id": "c3aa2b3c",
   "metadata": {},
   "outputs": [
    {
     "data": {
      "text/plain": [
       "array([0, 0, 0, ..., 0, 0, 0])"
      ]
     },
     "execution_count": 342,
     "metadata": {},
     "output_type": "execute_result"
    }
   ],
   "source": [
    "qfive_cluster = KMeans(2).fit_predict(X)\n",
    "\n",
    "qfive_cluster"
   ]
  },
  {
   "cell_type": "code",
   "execution_count": 343,
   "id": "4c4bc428",
   "metadata": {},
   "outputs": [
    {
     "data": {
      "text/html": [
       "<div>\n",
       "<style scoped>\n",
       "    .dataframe tbody tr th:only-of-type {\n",
       "        vertical-align: middle;\n",
       "    }\n",
       "\n",
       "    .dataframe tbody tr th {\n",
       "        vertical-align: top;\n",
       "    }\n",
       "\n",
       "    .dataframe thead th {\n",
       "        text-align: right;\n",
       "    }\n",
       "</style>\n",
       "<table border=\"1\" class=\"dataframe\">\n",
       "  <thead>\n",
       "    <tr style=\"text-align: right;\">\n",
       "      <th></th>\n",
       "      <th>Cluster</th>\n",
       "      <th>trans_id</th>\n",
       "      <th>trans_dt</th>\n",
       "      <th>store_id</th>\n",
       "      <th>cust_id</th>\n",
       "      <th>prod_id</th>\n",
       "      <th>sales_amt</th>\n",
       "      <th>sales_qty</th>\n",
       "      <th>sales_wgt</th>\n",
       "      <th>prod_desc</th>\n",
       "      <th>...</th>\n",
       "      <th>unit_price</th>\n",
       "      <th>max_price</th>\n",
       "      <th>discount_rate</th>\n",
       "      <th>frequency</th>\n",
       "      <th>recency</th>\n",
       "      <th>monetary</th>\n",
       "      <th>avg_discount</th>\n",
       "      <th>day</th>\n",
       "      <th>month</th>\n",
       "      <th>year</th>\n",
       "    </tr>\n",
       "  </thead>\n",
       "  <tbody>\n",
       "    <tr>\n",
       "      <th>0</th>\n",
       "      <td>0</td>\n",
       "      <td>170625010050404567</td>\n",
       "      <td>2017-06-25</td>\n",
       "      <td>1005</td>\n",
       "      <td>1008061498</td>\n",
       "      <td>21031312</td>\n",
       "      <td>2.49</td>\n",
       "      <td>1</td>\n",
       "      <td>0.0</td>\n",
       "      <td>QP TORTILLA CHIPS RED CORN</td>\n",
       "      <td>...</td>\n",
       "      <td>2.49</td>\n",
       "      <td>4.99</td>\n",
       "      <td>50.1</td>\n",
       "      <td>10</td>\n",
       "      <td>98.200000</td>\n",
       "      <td>2.490</td>\n",
       "      <td>44.439231</td>\n",
       "      <td>25</td>\n",
       "      <td>6</td>\n",
       "      <td>2017</td>\n",
       "    </tr>\n",
       "    <tr>\n",
       "      <th>1</th>\n",
       "      <td>0</td>\n",
       "      <td>170624010190805778</td>\n",
       "      <td>2017-06-24</td>\n",
       "      <td>1019</td>\n",
       "      <td>1100611737</td>\n",
       "      <td>21031312</td>\n",
       "      <td>2.49</td>\n",
       "      <td>1</td>\n",
       "      <td>0.0</td>\n",
       "      <td>QP TORTILLA CHIPS RED CORN</td>\n",
       "      <td>...</td>\n",
       "      <td>2.49</td>\n",
       "      <td>4.99</td>\n",
       "      <td>50.1</td>\n",
       "      <td>1</td>\n",
       "      <td>982.000000</td>\n",
       "      <td>2.490</td>\n",
       "      <td>50.100000</td>\n",
       "      <td>24</td>\n",
       "      <td>6</td>\n",
       "      <td>2017</td>\n",
       "    </tr>\n",
       "    <tr>\n",
       "      <th>2</th>\n",
       "      <td>0</td>\n",
       "      <td>170624010010806725</td>\n",
       "      <td>2017-06-24</td>\n",
       "      <td>1001</td>\n",
       "      <td>1016601259</td>\n",
       "      <td>21031312</td>\n",
       "      <td>2.49</td>\n",
       "      <td>1</td>\n",
       "      <td>0.0</td>\n",
       "      <td>QP TORTILLA CHIPS RED CORN</td>\n",
       "      <td>...</td>\n",
       "      <td>2.49</td>\n",
       "      <td>4.99</td>\n",
       "      <td>50.1</td>\n",
       "      <td>2</td>\n",
       "      <td>491.000000</td>\n",
       "      <td>2.490</td>\n",
       "      <td>29.225000</td>\n",
       "      <td>24</td>\n",
       "      <td>6</td>\n",
       "      <td>2017</td>\n",
       "    </tr>\n",
       "    <tr>\n",
       "      <th>3</th>\n",
       "      <td>0</td>\n",
       "      <td>170624010270807847</td>\n",
       "      <td>2017-06-24</td>\n",
       "      <td>1027</td>\n",
       "      <td>1021650510</td>\n",
       "      <td>21031312</td>\n",
       "      <td>2.49</td>\n",
       "      <td>1</td>\n",
       "      <td>0.0</td>\n",
       "      <td>QP TORTILLA CHIPS RED CORN</td>\n",
       "      <td>...</td>\n",
       "      <td>2.49</td>\n",
       "      <td>4.99</td>\n",
       "      <td>50.1</td>\n",
       "      <td>2</td>\n",
       "      <td>491.000000</td>\n",
       "      <td>1.995</td>\n",
       "      <td>56.963333</td>\n",
       "      <td>24</td>\n",
       "      <td>6</td>\n",
       "      <td>2017</td>\n",
       "    </tr>\n",
       "    <tr>\n",
       "      <th>4</th>\n",
       "      <td>0</td>\n",
       "      <td>170625010040707767</td>\n",
       "      <td>2017-06-25</td>\n",
       "      <td>1004</td>\n",
       "      <td>1128987709</td>\n",
       "      <td>21031312</td>\n",
       "      <td>2.49</td>\n",
       "      <td>1</td>\n",
       "      <td>0.0</td>\n",
       "      <td>QP TORTILLA CHIPS RED CORN</td>\n",
       "      <td>...</td>\n",
       "      <td>2.49</td>\n",
       "      <td>4.99</td>\n",
       "      <td>50.1</td>\n",
       "      <td>18</td>\n",
       "      <td>54.555556</td>\n",
       "      <td>3.740</td>\n",
       "      <td>30.850500</td>\n",
       "      <td>25</td>\n",
       "      <td>6</td>\n",
       "      <td>2017</td>\n",
       "    </tr>\n",
       "  </tbody>\n",
       "</table>\n",
       "<p>5 rows × 28 columns</p>\n",
       "</div>"
      ],
      "text/plain": [
       "   Cluster            trans_id   trans_dt  store_id     cust_id   prod_id  \\\n",
       "0        0  170625010050404567 2017-06-25      1005  1008061498  21031312   \n",
       "1        0  170624010190805778 2017-06-24      1019  1100611737  21031312   \n",
       "2        0  170624010010806725 2017-06-24      1001  1016601259  21031312   \n",
       "3        0  170624010270807847 2017-06-24      1027  1021650510  21031312   \n",
       "4        0  170625010040707767 2017-06-25      1004  1128987709  21031312   \n",
       "\n",
       "   sales_amt  sales_qty  sales_wgt                   prod_desc  ...  \\\n",
       "0       2.49          1        0.0  QP TORTILLA CHIPS RED CORN  ...   \n",
       "1       2.49          1        0.0  QP TORTILLA CHIPS RED CORN  ...   \n",
       "2       2.49          1        0.0  QP TORTILLA CHIPS RED CORN  ...   \n",
       "3       2.49          1        0.0  QP TORTILLA CHIPS RED CORN  ...   \n",
       "4       2.49          1        0.0  QP TORTILLA CHIPS RED CORN  ...   \n",
       "\n",
       "  unit_price max_price discount_rate frequency     recency  monetary  \\\n",
       "0       2.49      4.99          50.1        10   98.200000     2.490   \n",
       "1       2.49      4.99          50.1         1  982.000000     2.490   \n",
       "2       2.49      4.99          50.1         2  491.000000     2.490   \n",
       "3       2.49      4.99          50.1         2  491.000000     1.995   \n",
       "4       2.49      4.99          50.1        18   54.555556     3.740   \n",
       "\n",
       "  avg_discount  day  month  year  \n",
       "0    44.439231   25      6  2017  \n",
       "1    50.100000   24      6  2017  \n",
       "2    29.225000   24      6  2017  \n",
       "3    56.963333   24      6  2017  \n",
       "4    30.850500   25      6  2017  \n",
       "\n",
       "[5 rows x 28 columns]"
      ]
     },
     "execution_count": 343,
     "metadata": {},
     "output_type": "execute_result"
    }
   ],
   "source": [
    "mergedpostkm = merged.copy()\n",
    "mergedpostkm.insert(0, \"Cluster\", qfive_cluster, True)\n",
    "mergedpostkm.head()"
   ]
  },
  {
   "cell_type": "code",
   "execution_count": 348,
   "id": "ccaa9107",
   "metadata": {},
   "outputs": [
    {
     "name": "stderr",
     "output_type": "stream",
     "text": [
      "C:\\Users\\sendt\\AppData\\Local\\Temp/ipykernel_10848/4209040525.py:2: FutureWarning: Indexing with multiple keys (implicitly converted to a tuple of keys) will be deprecated, use a list instead.\n",
      "  clustertable[['total_sales','Total_qty']] = mergedpostkm.groupby(['Cluster'])\\\n",
      "C:\\Users\\sendt\\AppData\\Local\\Temp/ipykernel_10848/4209040525.py:7: FutureWarning: Indexing with multiple keys (implicitly converted to a tuple of keys) will be deprecated, use a list instead.\n",
      "  mergedpostkm.groupby(['Cluster'])\\\n",
      "C:\\Users\\sendt\\AppData\\Local\\Temp/ipykernel_10848/4209040525.py:11: FutureWarning: Indexing with multiple keys (implicitly converted to a tuple of keys) will be deprecated, use a list instead.\n",
      "  clustertable[['avg_price_item','avg_qty_item','avg_discount']] = mergedpostkm.groupby(['Cluster'])\\\n"
     ]
    },
    {
     "data": {
      "text/html": [
       "<div>\n",
       "<style scoped>\n",
       "    .dataframe tbody tr th:only-of-type {\n",
       "        vertical-align: middle;\n",
       "    }\n",
       "\n",
       "    .dataframe tbody tr th {\n",
       "        vertical-align: top;\n",
       "    }\n",
       "\n",
       "    .dataframe thead th {\n",
       "        text-align: right;\n",
       "    }\n",
       "</style>\n",
       "<table border=\"1\" class=\"dataframe\">\n",
       "  <thead>\n",
       "    <tr style=\"text-align: right;\">\n",
       "      <th></th>\n",
       "      <th>total_sales</th>\n",
       "      <th>Total_qty</th>\n",
       "      <th>store_count</th>\n",
       "      <th>cust_count</th>\n",
       "      <th>prod_id_count</th>\n",
       "      <th>prod_section_count</th>\n",
       "      <th>prod_category_count</th>\n",
       "      <th>prod_subcategory_count</th>\n",
       "      <th>prod_type_count</th>\n",
       "      <th>avg_price_item</th>\n",
       "      <th>avg_qty_item</th>\n",
       "      <th>avg_discount</th>\n",
       "    </tr>\n",
       "    <tr>\n",
       "      <th>Cluster</th>\n",
       "      <th></th>\n",
       "      <th></th>\n",
       "      <th></th>\n",
       "      <th></th>\n",
       "      <th></th>\n",
       "      <th></th>\n",
       "      <th></th>\n",
       "      <th></th>\n",
       "      <th></th>\n",
       "      <th></th>\n",
       "      <th></th>\n",
       "      <th></th>\n",
       "    </tr>\n",
       "  </thead>\n",
       "  <tbody>\n",
       "    <tr>\n",
       "      <th>0</th>\n",
       "      <td>57296808.34</td>\n",
       "      <td>13435316</td>\n",
       "      <td>58</td>\n",
       "      <td>2048993</td>\n",
       "      <td>91060</td>\n",
       "      <td>27</td>\n",
       "      <td>84</td>\n",
       "      <td>370</td>\n",
       "      <td>1877</td>\n",
       "      <td>5.423656</td>\n",
       "      <td>1.271773</td>\n",
       "      <td>33.132084</td>\n",
       "    </tr>\n",
       "    <tr>\n",
       "      <th>1</th>\n",
       "      <td>5448558.38</td>\n",
       "      <td>1275230</td>\n",
       "      <td>58</td>\n",
       "      <td>467477</td>\n",
       "      <td>52696</td>\n",
       "      <td>27</td>\n",
       "      <td>84</td>\n",
       "      <td>365</td>\n",
       "      <td>1759</td>\n",
       "      <td>5.404731</td>\n",
       "      <td>1.264972</td>\n",
       "      <td>34.521953</td>\n",
       "    </tr>\n",
       "  </tbody>\n",
       "</table>\n",
       "</div>"
      ],
      "text/plain": [
       "         total_sales  Total_qty  store_count  cust_count  prod_id_count  \\\n",
       "Cluster                                                                   \n",
       "0        57296808.34   13435316           58     2048993          91060   \n",
       "1         5448558.38    1275230           58      467477          52696   \n",
       "\n",
       "         prod_section_count  prod_category_count  prod_subcategory_count  \\\n",
       "Cluster                                                                    \n",
       "0                        27                   84                     370   \n",
       "1                        27                   84                     365   \n",
       "\n",
       "         prod_type_count  avg_price_item  avg_qty_item  avg_discount  \n",
       "Cluster                                                               \n",
       "0                   1877        5.423656      1.271773     33.132084  \n",
       "1                   1759        5.404731      1.264972     34.521953  "
      ]
     },
     "execution_count": 348,
     "metadata": {},
     "output_type": "execute_result"
    }
   ],
   "source": [
    "clustertable=pd.DataFrame()\n",
    "clustertable[['total_sales','Total_qty']] = mergedpostkm.groupby(['Cluster'])\\\n",
    "['sales_amt','sales_qty'].agg('sum')\n",
    "\n",
    "clustertable[['store_count','cust_count','prod_id_count','prod_section_count'\\\n",
    "              ,'prod_category_count','prod_subcategory_count','prod_type_count']] = \\\n",
    "mergedpostkm.groupby(['Cluster'])\\\n",
    "['store_id','cust_id','prod_id','prod_section','prod_category','prod_subcategory','prod_type']\\\n",
    ".nunique()\n",
    "\n",
    "clustertable[['avg_price_item','avg_qty_item','avg_discount']] = mergedpostkm.groupby(['Cluster'])\\\n",
    "['sales_amt','sales_qty','avg_discount']\\\n",
    "    .agg('mean')\n",
    "\n",
    "clustertable"
   ]
  },
  {
   "cell_type": "code",
   "execution_count": 364,
   "id": "d769a243",
   "metadata": {},
   "outputs": [
    {
     "data": {
      "text/html": [
       "<div>\n",
       "<style scoped>\n",
       "    .dataframe tbody tr th:only-of-type {\n",
       "        vertical-align: middle;\n",
       "    }\n",
       "\n",
       "    .dataframe tbody tr th {\n",
       "        vertical-align: top;\n",
       "    }\n",
       "\n",
       "    .dataframe thead th {\n",
       "        text-align: right;\n",
       "    }\n",
       "</style>\n",
       "<table border=\"1\" class=\"dataframe\">\n",
       "  <thead>\n",
       "    <tr style=\"text-align: right;\">\n",
       "      <th></th>\n",
       "      <th></th>\n",
       "      <th>count</th>\n",
       "      <th>mean</th>\n",
       "      <th>std</th>\n",
       "      <th>min</th>\n",
       "      <th>25%</th>\n",
       "      <th>50%</th>\n",
       "      <th>75%</th>\n",
       "      <th>max</th>\n",
       "    </tr>\n",
       "    <tr>\n",
       "      <th>Cluster</th>\n",
       "      <th>prod_category</th>\n",
       "      <th></th>\n",
       "      <th></th>\n",
       "      <th></th>\n",
       "      <th></th>\n",
       "      <th></th>\n",
       "      <th></th>\n",
       "      <th></th>\n",
       "      <th></th>\n",
       "    </tr>\n",
       "  </thead>\n",
       "  <tbody>\n",
       "    <tr>\n",
       "      <th rowspan=\"5\" valign=\"top\">0</th>\n",
       "      <th>Baby</th>\n",
       "      <td>71449.0</td>\n",
       "      <td>8.650610</td>\n",
       "      <td>33.001056</td>\n",
       "      <td>0.15</td>\n",
       "      <td>1.99</td>\n",
       "      <td>3.49</td>\n",
       "      <td>7.00</td>\n",
       "      <td>4956.39</td>\n",
       "    </tr>\n",
       "    <tr>\n",
       "      <th>Baking</th>\n",
       "      <td>226169.0</td>\n",
       "      <td>4.695041</td>\n",
       "      <td>3.310515</td>\n",
       "      <td>0.04</td>\n",
       "      <td>2.59</td>\n",
       "      <td>3.99</td>\n",
       "      <td>5.98</td>\n",
       "      <td>129.87</td>\n",
       "    </tr>\n",
       "    <tr>\n",
       "      <th>Bath &amp; Beauty</th>\n",
       "      <td>2658.0</td>\n",
       "      <td>5.766881</td>\n",
       "      <td>3.837864</td>\n",
       "      <td>0.22</td>\n",
       "      <td>2.94</td>\n",
       "      <td>4.99</td>\n",
       "      <td>7.99</td>\n",
       "      <td>49.96</td>\n",
       "    </tr>\n",
       "    <tr>\n",
       "      <th>Beer</th>\n",
       "      <td>104205.0</td>\n",
       "      <td>7.223133</td>\n",
       "      <td>5.943823</td>\n",
       "      <td>1.19</td>\n",
       "      <td>2.79</td>\n",
       "      <td>5.32</td>\n",
       "      <td>10.80</td>\n",
       "      <td>161.28</td>\n",
       "    </tr>\n",
       "    <tr>\n",
       "      <th>Breakfast</th>\n",
       "      <td>193337.0</td>\n",
       "      <td>5.295391</td>\n",
       "      <td>4.310358</td>\n",
       "      <td>0.24</td>\n",
       "      <td>3.49</td>\n",
       "      <td>4.99</td>\n",
       "      <td>5.99</td>\n",
       "      <td>1397.20</td>\n",
       "    </tr>\n",
       "    <tr>\n",
       "      <th>...</th>\n",
       "      <th>...</th>\n",
       "      <td>...</td>\n",
       "      <td>...</td>\n",
       "      <td>...</td>\n",
       "      <td>...</td>\n",
       "      <td>...</td>\n",
       "      <td>...</td>\n",
       "      <td>...</td>\n",
       "      <td>...</td>\n",
       "    </tr>\n",
       "    <tr>\n",
       "      <th rowspan=\"5\" valign=\"top\">1</th>\n",
       "      <th>Toys</th>\n",
       "      <td>307.0</td>\n",
       "      <td>10.040684</td>\n",
       "      <td>10.150448</td>\n",
       "      <td>0.10</td>\n",
       "      <td>3.38</td>\n",
       "      <td>6.99</td>\n",
       "      <td>12.98</td>\n",
       "      <td>79.97</td>\n",
       "    </tr>\n",
       "    <tr>\n",
       "      <th>Vegetables</th>\n",
       "      <td>121724.0</td>\n",
       "      <td>3.650451</td>\n",
       "      <td>2.287993</td>\n",
       "      <td>0.02</td>\n",
       "      <td>1.99</td>\n",
       "      <td>2.99</td>\n",
       "      <td>4.99</td>\n",
       "      <td>83.86</td>\n",
       "    </tr>\n",
       "    <tr>\n",
       "      <th>Wellness</th>\n",
       "      <td>4552.0</td>\n",
       "      <td>12.641852</td>\n",
       "      <td>10.334323</td>\n",
       "      <td>0.20</td>\n",
       "      <td>6.49</td>\n",
       "      <td>10.49</td>\n",
       "      <td>15.49</td>\n",
       "      <td>122.99</td>\n",
       "    </tr>\n",
       "    <tr>\n",
       "      <th>Wine</th>\n",
       "      <td>3275.0</td>\n",
       "      <td>15.467255</td>\n",
       "      <td>10.417840</td>\n",
       "      <td>2.08</td>\n",
       "      <td>10.62</td>\n",
       "      <td>13.05</td>\n",
       "      <td>16.59</td>\n",
       "      <td>192.72</td>\n",
       "    </tr>\n",
       "    <tr>\n",
       "      <th>Yogurt/Refrigerated Juice</th>\n",
       "      <td>24756.0</td>\n",
       "      <td>4.617860</td>\n",
       "      <td>2.409523</td>\n",
       "      <td>0.00</td>\n",
       "      <td>3.00</td>\n",
       "      <td>3.99</td>\n",
       "      <td>5.68</td>\n",
       "      <td>63.84</td>\n",
       "    </tr>\n",
       "  </tbody>\n",
       "</table>\n",
       "<p>168 rows × 8 columns</p>\n",
       "</div>"
      ],
      "text/plain": [
       "                                      count       mean        std   min  \\\n",
       "Cluster prod_category                                                     \n",
       "0       Baby                        71449.0   8.650610  33.001056  0.15   \n",
       "        Baking                     226169.0   4.695041   3.310515  0.04   \n",
       "        Bath & Beauty                2658.0   5.766881   3.837864  0.22   \n",
       "        Beer                       104205.0   7.223133   5.943823  1.19   \n",
       "        Breakfast                  193337.0   5.295391   4.310358  0.24   \n",
       "...                                     ...        ...        ...   ...   \n",
       "1       Toys                          307.0  10.040684  10.150448  0.10   \n",
       "        Vegetables                 121724.0   3.650451   2.287993  0.02   \n",
       "        Wellness                     4552.0  12.641852  10.334323  0.20   \n",
       "        Wine                         3275.0  15.467255  10.417840  2.08   \n",
       "        Yogurt/Refrigerated Juice   24756.0   4.617860   2.409523  0.00   \n",
       "\n",
       "                                     25%    50%    75%      max  \n",
       "Cluster prod_category                                            \n",
       "0       Baby                        1.99   3.49   7.00  4956.39  \n",
       "        Baking                      2.59   3.99   5.98   129.87  \n",
       "        Bath & Beauty               2.94   4.99   7.99    49.96  \n",
       "        Beer                        2.79   5.32  10.80   161.28  \n",
       "        Breakfast                   3.49   4.99   5.99  1397.20  \n",
       "...                                  ...    ...    ...      ...  \n",
       "1       Toys                        3.38   6.99  12.98    79.97  \n",
       "        Vegetables                  1.99   2.99   4.99    83.86  \n",
       "        Wellness                    6.49  10.49  15.49   122.99  \n",
       "        Wine                       10.62  13.05  16.59   192.72  \n",
       "        Yogurt/Refrigerated Juice   3.00   3.99   5.68    63.84  \n",
       "\n",
       "[168 rows x 8 columns]"
      ]
     },
     "execution_count": 364,
     "metadata": {},
     "output_type": "execute_result"
    }
   ],
   "source": [
    "clusteritems=pd.DataFrame()\n",
    "mergedpostkm.groupby(['Cluster','prod_category'])['sales_amt'].describe()"
   ]
  },
  {
   "cell_type": "markdown",
   "id": "532383c4",
   "metadata": {},
   "source": [
    "### Question 6\n",
    "Are there natural groupings of stores, e.g., stores frequented by cherry-pickers versus stores visited by most loyal customers?"
   ]
  },
  {
   "cell_type": "code",
   "execution_count": 408,
   "id": "953e7ec0",
   "metadata": {},
   "outputs": [
    {
     "data": {
      "text/plain": [
       "58"
      ]
     },
     "execution_count": 408,
     "metadata": {},
     "output_type": "execute_result"
    }
   ],
   "source": [
    "merged1['store_id'].nunique()"
   ]
  },
  {
   "cell_type": "code",
   "execution_count": 409,
   "id": "84e33c5d",
   "metadata": {},
   "outputs": [],
   "source": [
    "store_grouping = merged1.groupby(['cluster','store_id'])['trans_id'].agg(\"nunique\").reset_index()"
   ]
  },
  {
   "cell_type": "code",
   "execution_count": 410,
   "id": "15c9e928",
   "metadata": {},
   "outputs": [
    {
     "data": {
      "text/plain": [
       "Index(['cluster', 'store_id', 'number_of_transactions'], dtype='object')"
      ]
     },
     "execution_count": 410,
     "metadata": {},
     "output_type": "execute_result"
    }
   ],
   "source": [
    "store_grouping.columns = ['cluster', 'store_id', 'number_of_transactions']\n",
    "store_grouping.columns "
   ]
  },
  {
   "cell_type": "code",
   "execution_count": 411,
   "id": "6e63af0e",
   "metadata": {},
   "outputs": [],
   "source": [
    "store_grouping=store_grouping.sort_values([\"cluster\", \"number_of_transactions\"], ascending = False)"
   ]
  },
  {
   "cell_type": "code",
   "execution_count": 412,
   "id": "6dec7c37",
   "metadata": {},
   "outputs": [
    {
     "data": {
      "text/html": [
       "<div>\n",
       "<style scoped>\n",
       "    .dataframe tbody tr th:only-of-type {\n",
       "        vertical-align: middle;\n",
       "    }\n",
       "\n",
       "    .dataframe tbody tr th {\n",
       "        vertical-align: top;\n",
       "    }\n",
       "\n",
       "    .dataframe thead th {\n",
       "        text-align: right;\n",
       "    }\n",
       "</style>\n",
       "<table border=\"1\" class=\"dataframe\">\n",
       "  <thead>\n",
       "    <tr style=\"text-align: right;\">\n",
       "      <th></th>\n",
       "      <th>cluster</th>\n",
       "      <th>store_id</th>\n",
       "      <th>number_of_transactions</th>\n",
       "    </tr>\n",
       "  </thead>\n",
       "  <tbody>\n",
       "    <tr>\n",
       "      <th>5</th>\n",
       "      <td>0</td>\n",
       "      <td>1007</td>\n",
       "      <td>48679</td>\n",
       "    </tr>\n",
       "    <tr>\n",
       "      <th>21</th>\n",
       "      <td>0</td>\n",
       "      <td>1050</td>\n",
       "      <td>38693</td>\n",
       "    </tr>\n",
       "    <tr>\n",
       "      <th>47</th>\n",
       "      <td>0</td>\n",
       "      <td>1212</td>\n",
       "      <td>35832</td>\n",
       "    </tr>\n",
       "    <tr>\n",
       "      <th>0</th>\n",
       "      <td>0</td>\n",
       "      <td>1000</td>\n",
       "      <td>33797</td>\n",
       "    </tr>\n",
       "    <tr>\n",
       "      <th>15</th>\n",
       "      <td>0</td>\n",
       "      <td>1027</td>\n",
       "      <td>33203</td>\n",
       "    </tr>\n",
       "  </tbody>\n",
       "</table>\n",
       "</div>"
      ],
      "text/plain": [
       "    cluster  store_id  number_of_transactions\n",
       "5         0      1007                   48679\n",
       "21        0      1050                   38693\n",
       "47        0      1212                   35832\n",
       "0         0      1000                   33797\n",
       "15        0      1027                   33203"
      ]
     },
     "execution_count": 412,
     "metadata": {},
     "output_type": "execute_result"
    }
   ],
   "source": [
    "store_grouping.loc[store_grouping['cluster']==0].head(5)"
   ]
  },
  {
   "cell_type": "code",
   "execution_count": 413,
   "id": "e09b4c3a",
   "metadata": {},
   "outputs": [
    {
     "data": {
      "text/html": [
       "<div>\n",
       "<style scoped>\n",
       "    .dataframe tbody tr th:only-of-type {\n",
       "        vertical-align: middle;\n",
       "    }\n",
       "\n",
       "    .dataframe tbody tr th {\n",
       "        vertical-align: top;\n",
       "    }\n",
       "\n",
       "    .dataframe thead th {\n",
       "        text-align: right;\n",
       "    }\n",
       "</style>\n",
       "<table border=\"1\" class=\"dataframe\">\n",
       "  <thead>\n",
       "    <tr style=\"text-align: right;\">\n",
       "      <th></th>\n",
       "      <th>cluster</th>\n",
       "      <th>store_id</th>\n",
       "      <th>number_of_transactions</th>\n",
       "    </tr>\n",
       "  </thead>\n",
       "  <tbody>\n",
       "    <tr>\n",
       "      <th>104</th>\n",
       "      <td>1</td>\n",
       "      <td>1212</td>\n",
       "      <td>342395</td>\n",
       "    </tr>\n",
       "    <tr>\n",
       "      <th>78</th>\n",
       "      <td>1</td>\n",
       "      <td>1050</td>\n",
       "      <td>305377</td>\n",
       "    </tr>\n",
       "    <tr>\n",
       "      <th>62</th>\n",
       "      <td>1</td>\n",
       "      <td>1007</td>\n",
       "      <td>295453</td>\n",
       "    </tr>\n",
       "    <tr>\n",
       "      <th>60</th>\n",
       "      <td>1</td>\n",
       "      <td>1004</td>\n",
       "      <td>290561</td>\n",
       "    </tr>\n",
       "    <tr>\n",
       "      <th>69</th>\n",
       "      <td>1</td>\n",
       "      <td>1021</td>\n",
       "      <td>271575</td>\n",
       "    </tr>\n",
       "  </tbody>\n",
       "</table>\n",
       "</div>"
      ],
      "text/plain": [
       "     cluster  store_id  number_of_transactions\n",
       "104        1      1212                  342395\n",
       "78         1      1050                  305377\n",
       "62         1      1007                  295453\n",
       "60         1      1004                  290561\n",
       "69         1      1021                  271575"
      ]
     },
     "execution_count": 413,
     "metadata": {},
     "output_type": "execute_result"
    }
   ],
   "source": [
    "store_grouping.loc[store_grouping['cluster']==1].head(5)"
   ]
  },
  {
   "cell_type": "code",
   "execution_count": 414,
   "id": "f350ca75",
   "metadata": {},
   "outputs": [
    {
     "data": {
      "text/html": [
       "<div>\n",
       "<style scoped>\n",
       "    .dataframe tbody tr th:only-of-type {\n",
       "        vertical-align: middle;\n",
       "    }\n",
       "\n",
       "    .dataframe tbody tr th {\n",
       "        vertical-align: top;\n",
       "    }\n",
       "\n",
       "    .dataframe thead th {\n",
       "        text-align: right;\n",
       "    }\n",
       "</style>\n",
       "<table border=\"1\" class=\"dataframe\">\n",
       "  <thead>\n",
       "    <tr style=\"text-align: right;\">\n",
       "      <th></th>\n",
       "      <th>cluster</th>\n",
       "      <th>store_id</th>\n",
       "      <th>number_of_transactions</th>\n",
       "    </tr>\n",
       "  </thead>\n",
       "  <tbody>\n",
       "    <tr>\n",
       "      <th>120</th>\n",
       "      <td>2</td>\n",
       "      <td>1007</td>\n",
       "      <td>71774</td>\n",
       "    </tr>\n",
       "    <tr>\n",
       "      <th>162</th>\n",
       "      <td>2</td>\n",
       "      <td>1212</td>\n",
       "      <td>58159</td>\n",
       "    </tr>\n",
       "    <tr>\n",
       "      <th>136</th>\n",
       "      <td>2</td>\n",
       "      <td>1050</td>\n",
       "      <td>57035</td>\n",
       "    </tr>\n",
       "    <tr>\n",
       "      <th>130</th>\n",
       "      <td>2</td>\n",
       "      <td>1027</td>\n",
       "      <td>52781</td>\n",
       "    </tr>\n",
       "    <tr>\n",
       "      <th>121</th>\n",
       "      <td>2</td>\n",
       "      <td>1010</td>\n",
       "      <td>50750</td>\n",
       "    </tr>\n",
       "  </tbody>\n",
       "</table>\n",
       "</div>"
      ],
      "text/plain": [
       "     cluster  store_id  number_of_transactions\n",
       "120        2      1007                   71774\n",
       "162        2      1212                   58159\n",
       "136        2      1050                   57035\n",
       "130        2      1027                   52781\n",
       "121        2      1010                   50750"
      ]
     },
     "execution_count": 414,
     "metadata": {},
     "output_type": "execute_result"
    }
   ],
   "source": [
    "store_grouping.loc[store_grouping['cluster']==2].head(5)"
   ]
  },
  {
   "cell_type": "code",
   "execution_count": 415,
   "id": "efc3ab82",
   "metadata": {},
   "outputs": [
    {
     "data": {
      "image/png": "[encoded data removed]",
      "text/plain": [
       "<Figure size 432x288 with 1 Axes>"
      ]
     },
     "metadata": {
      "needs_background": "light"
     },
     "output_type": "display_data"
    }
   ],
   "source": [
    "fig = plt.figure()\n",
    "ax = fig.add_axes([0,0,1,1])\n",
    "\n",
    "figure1 = store_grouping.loc[store_grouping['cluster']==0]\n",
    "x=figure1.store_id\n",
    "heights = figure1.number_of_transactions\n",
    "\n",
    "ax.bar(x,height = heights)\n",
    "\n",
    "\n",
    "plt.title(\"Cherry-picker:number of visits for each store\")\n",
    "plt.show()"
   ]
  },
  {
   "cell_type": "code",
   "execution_count": 416,
   "id": "1b3e199d",
   "metadata": {},
   "outputs": [
    {
     "data": {
      "image/png": "[encoded data removed]",
      "text/plain": [
       "<Figure size 432x288 with 1 Axes>"
      ]
     },
     "metadata": {
      "needs_background": "light"
     },
     "output_type": "display_data"
    }
   ],
   "source": [
    "fig = plt.figure()\n",
    "ax = fig.add_axes([0,0,1,1])\n",
    "\n",
    "figure2 = store_grouping.loc[store_grouping['cluster']==1]\n",
    "x=figure2.store_id\n",
    "heights = figure2.number_of_transactions\n",
    "\n",
    "ax.bar(x,height = heights)\n",
    "\n",
    "\n",
    "plt.title(\"Frequent customer: number of visits for each store\")\n",
    "plt.show()"
   ]
  },
  {
   "cell_type": "code",
   "execution_count": 417,
   "id": "1130a98e",
   "metadata": {},
   "outputs": [
    {
     "data": {
      "image/png": "[encoded data removed]",
      "text/plain": [
       "<Figure size 432x288 with 1 Axes>"
      ]
     },
     "metadata": {
      "needs_background": "light"
     },
     "output_type": "display_data"
    }
   ],
   "source": [
    "fig = plt.figure()\n",
    "ax = fig.add_axes([0,0,1,1])\n",
    "\n",
    "figure3 = store_grouping.loc[store_grouping['cluster']==2]\n",
    "x=figure3.store_id\n",
    "heights = figure3.number_of_transactions\n",
    "\n",
    "ax.bar(x,height = heights)\n",
    "\n",
    "\n",
    "plt.title(\"High-value customer: number of visits for each store\")\n",
    "plt.show()"
   ]
  }
 ],
 "metadata": {
  "kernelspec": {
   "display_name": "Python 3 (ipykernel)",
   "language": "python",
   "name": "python3"
  },
  "language_info": {
   "codemirror_mode": {
    "name": "ipython",
    "version": 3
   },
   "file_extension": ".py",
   "mimetype": "text/x-python",
   "name": "python",
   "nbconvert_exporter": "python",
   "pygments_lexer": "ipython3",
   "version": "3.9.7"
  }
 },
 "nbformat": 4,
 "nbformat_minor": 5
}
